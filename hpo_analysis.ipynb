{
 "cells": [
  {
   "cell_type": "code",
   "execution_count": 243,
   "metadata": {},
   "outputs": [],
   "source": [
    "import os\n",
    "import json\n",
    "import glob\n",
    "from matplotlib import pyplot as plt\n",
    "from ocpmodels.trainers import ForcesTrainer"
   ]
  },
  {
   "cell_type": "code",
   "execution_count": 331,
   "metadata": {},
   "outputs": [],
   "source": [
    "root_dir = \"/private/home/mshuaibi/baselines\"\n",
    "exp_log = [\"dimenet_20Mv3\"]"
   ]
  },
  {
   "cell_type": "code",
   "execution_count": 332,
   "metadata": {},
   "outputs": [],
   "source": [
    "exps = []\n",
    "for e in exp_log:\n",
    "    exp_path = os.path.join(root_dir, f\"logs/{e}/exp\")\n",
    "    with open(os.path.join(exp_path, os.listdir(exp_path)[0]), \"r\") as f:\n",
    "        exps += f.read().splitlines()\n",
    "\n",
    "for i in range(len(exps)):\n",
    "    exps[i] = json.loads(exps[i])"
   ]
  },
  {
   "cell_type": "code",
   "execution_count": 338,
   "metadata": {},
   "outputs": [],
   "source": [
    "iters = 1\n",
    "eval_every=-1000"
   ]
  },
  {
   "cell_type": "code",
   "execution_count": 340,
   "metadata": {},
   "outputs": [
    {
     "data": {
      "text/plain": [
       "1"
      ]
     },
     "execution_count": 340,
     "metadata": {},
     "output_type": "execute_result"
    }
   ],
   "source": [
    "iters % (-1*eval_every)"
   ]
  },
  {
   "cell_type": "code",
   "execution_count": 333,
   "metadata": {},
   "outputs": [],
   "source": [
    "def read_ocp_log(slurm_job_id):\n",
    "    try:\n",
    "        log_path = glob.glob(root_dir + \"/logs/dimenet_20Mv3/{}/*.out\".format(slurm_job_id))[0]\n",
    "    except:\n",
    "        return [], []\n",
    "    log = open(log_path, \"r\").read().splitlines()\n",
    "    train, val = [], []\n",
    "    model_sizes = []\n",
    "    is_next_val = False\n",
    "    for l in log:\n",
    "        fragments = l.split(\",\")\n",
    "        if \"ERROR\" in fragments[0]:\n",
    "            return train, val\n",
    "        # train.\n",
    "        elif fragments[0].endswith(\"parameters.\"):\n",
    "            size = int(fragments[0].split(\" \")[-2])\n",
    "            model_sizes.append(size)\n",
    "        elif is_next_val is False and fragments[0].startswith(\"epoch\"):\n",
    "            metrics = {}\n",
    "            for f in fragments:\n",
    "                sub = f.split(\":\")\n",
    "                metrics[sub[0].strip()] = float(sub[1].strip())\n",
    "            train.append(metrics)\n",
    "        # val.\n",
    "        elif is_next_val is True:\n",
    "            epoch = round(metrics[\"epoch\"])\n",
    "            metrics = {}\n",
    "            try:\n",
    "                for f in fragments:\n",
    "                    sub = f.split(\":\")\n",
    "                    metrics[sub[0].strip()] = float(sub[1].strip())\n",
    "            except:\n",
    "                print(slurm_job_id)\n",
    "            metrics[\"epoch\"] = epoch\n",
    "            val.append(metrics)\n",
    "            is_next_val = False\n",
    "        if l == \"### Evaluating on val.\":\n",
    "            is_next_val = True\n",
    "    return train, val, model_sizes"
   ]
  },
  {
   "cell_type": "code",
   "execution_count": 334,
   "metadata": {},
   "outputs": [
    {
     "ename": "UnboundLocalError",
     "evalue": "local variable 'metrics' referenced before assignment",
     "output_type": "error",
     "traceback": [
      "\u001b[0;31m---------------------------------------------------------------------------\u001b[0m",
      "\u001b[0;31mUnboundLocalError\u001b[0m                         Traceback (most recent call last)",
      "\u001b[0;32m<ipython-input-334-b621174c0307>\u001b[0m in \u001b[0;36m<module>\u001b[0;34m\u001b[0m\n\u001b[0;32m----> 1\u001b[0;31m \u001b[0mlogs\u001b[0m \u001b[0;34m=\u001b[0m \u001b[0;34m[\u001b[0m\u001b[0mread_ocp_log\u001b[0m\u001b[0;34m(\u001b[0m\u001b[0me\u001b[0m\u001b[0;34m[\u001b[0m\u001b[0;34m\"slurm_id\"\u001b[0m\u001b[0;34m]\u001b[0m\u001b[0;34m)\u001b[0m \u001b[0;32mfor\u001b[0m \u001b[0me\u001b[0m \u001b[0;32min\u001b[0m \u001b[0mexps\u001b[0m\u001b[0;34m]\u001b[0m\u001b[0;34m\u001b[0m\u001b[0;34m\u001b[0m\u001b[0m\n\u001b[0m",
      "\u001b[0;32m<ipython-input-334-b621174c0307>\u001b[0m in \u001b[0;36m<listcomp>\u001b[0;34m(.0)\u001b[0m\n\u001b[0;32m----> 1\u001b[0;31m \u001b[0mlogs\u001b[0m \u001b[0;34m=\u001b[0m \u001b[0;34m[\u001b[0m\u001b[0mread_ocp_log\u001b[0m\u001b[0;34m(\u001b[0m\u001b[0me\u001b[0m\u001b[0;34m[\u001b[0m\u001b[0;34m\"slurm_id\"\u001b[0m\u001b[0;34m]\u001b[0m\u001b[0;34m)\u001b[0m \u001b[0;32mfor\u001b[0m \u001b[0me\u001b[0m \u001b[0;32min\u001b[0m \u001b[0mexps\u001b[0m\u001b[0;34m]\u001b[0m\u001b[0;34m\u001b[0m\u001b[0;34m\u001b[0m\u001b[0m\n\u001b[0m",
      "\u001b[0;32m<ipython-input-333-ebc53fba9d5e>\u001b[0m in \u001b[0;36mread_ocp_log\u001b[0;34m(slurm_job_id)\u001b[0m\n\u001b[1;32m     24\u001b[0m         \u001b[0;31m# val.\u001b[0m\u001b[0;34m\u001b[0m\u001b[0;34m\u001b[0m\u001b[0;34m\u001b[0m\u001b[0m\n\u001b[1;32m     25\u001b[0m         \u001b[0;32melif\u001b[0m \u001b[0mis_next_val\u001b[0m \u001b[0;32mis\u001b[0m \u001b[0;32mTrue\u001b[0m\u001b[0;34m:\u001b[0m\u001b[0;34m\u001b[0m\u001b[0;34m\u001b[0m\u001b[0m\n\u001b[0;32m---> 26\u001b[0;31m             \u001b[0mepoch\u001b[0m \u001b[0;34m=\u001b[0m \u001b[0mround\u001b[0m\u001b[0;34m(\u001b[0m\u001b[0mmetrics\u001b[0m\u001b[0;34m[\u001b[0m\u001b[0;34m\"epoch\"\u001b[0m\u001b[0;34m]\u001b[0m\u001b[0;34m)\u001b[0m\u001b[0;34m\u001b[0m\u001b[0;34m\u001b[0m\u001b[0m\n\u001b[0m\u001b[1;32m     27\u001b[0m             \u001b[0mmetrics\u001b[0m \u001b[0;34m=\u001b[0m \u001b[0;34m{\u001b[0m\u001b[0;34m}\u001b[0m\u001b[0;34m\u001b[0m\u001b[0;34m\u001b[0m\u001b[0m\n\u001b[1;32m     28\u001b[0m             \u001b[0;32mtry\u001b[0m\u001b[0;34m:\u001b[0m\u001b[0;34m\u001b[0m\u001b[0;34m\u001b[0m\u001b[0m\n",
      "\u001b[0;31mUnboundLocalError\u001b[0m: local variable 'metrics' referenced before assignment"
     ]
    }
   ],
   "source": [
    "logs = [read_ocp_log(e[\"slurm_id\"]) for e in exps]"
   ]
  },
  {
   "cell_type": "code",
   "execution_count": 335,
   "metadata": {},
   "outputs": [
    {
     "data": {
      "image/png": "[encoded data removed]",
      "text/plain": [
       "<Figure size 432x288 with 1 Axes>"
      ]
     },
     "metadata": {
      "needs_background": "light"
     },
     "output_type": "display_data"
    }
   ],
   "source": [
    "for i in range(len(logs)):\n",
    "    try:\n",
    "        plt.plot([e[\"epoch\"] for e in logs[i][1]],\n",
    "                 [e[\"force_z/mae\"] for e in logs[i][1]],\n",
    "                 label=exps[i][\"config\"][\"identifier\"])\n",
    "    except:\n",
    "        continue"
   ]
  },
  {
   "cell_type": "code",
   "execution_count": 336,
   "metadata": {},
   "outputs": [],
   "source": [
    "metric = \"force_z/mae\""
   ]
  },
  {
   "cell_type": "code",
   "execution_count": 337,
   "metadata": {},
   "outputs": [
    {
     "name": "stdout",
     "output_type": "stream",
     "text": [
      "Jobs completed: 3\n",
      "0.0725 29897494_1 dimenet_20Mv3_run1 N\n",
      "0.0748 29897494_0 dimenet_20Mv3_run0 N\n",
      "0.0868 29897494_2 dimenet_20Mv3_run2 N\n"
     ]
    }
   ],
   "source": [
    "best_val_maes = []\n",
    "for i in range(len(logs)):\n",
    "    try:\n",
    "        best_val_maes.append((i, min([m[metric] for m in logs[i][1]])))\n",
    "    except:\n",
    "        continue\n",
    "print(\"Jobs completed:\", len(best_val_maes))\n",
    "best_val_maes_sorted = sorted(best_val_maes, key=lambda x: x[1])[::-1]\n",
    "configs_sorted = [(i[1], exps[i[0]]) for i in best_val_maes_sorted][::-1]\n",
    "model_sizes_sorted = []\n",
    "for i in best_val_maes_sorted[::-1]:\n",
    "    try:\n",
    "        model_sizes_sorted.append(logs[i[0]][2])\n",
    "    except:\n",
    "        model_sizes_sorted.append(\"N/A\")\n",
    "\n",
    "for i in range(len(best_val_maes)):\n",
    "    print(configs_sorted[i][0],\n",
    "          configs_sorted[i][1][\"slurm_id\"],\n",
    "          configs_sorted[i][1][\"config\"][\"identifier\"],\n",
    "          model_sizes_sorted[i][0])"
   ]
  },
  {
   "cell_type": "code",
   "execution_count": null,
   "metadata": {},
   "outputs": [],
   "source": []
  }
 ],
 "metadata": {
  "kernelspec": {
   "display_name": "Python 3",
   "language": "python",
   "name": "python3"
  },
  "language_info": {
   "codemirror_mode": {
    "name": "ipython",
    "version": 3
   },
   "file_extension": ".py",
   "mimetype": "text/x-python",
   "name": "python",
   "nbconvert_exporter": "python",
   "pygments_lexer": "ipython3",
   "version": "3.6.10"
  }
 },
 "nbformat": 4,
 "nbformat_minor": 4
}
