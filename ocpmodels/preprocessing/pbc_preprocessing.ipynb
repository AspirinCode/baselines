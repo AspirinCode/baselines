{
 "cells": [
  {
   "cell_type": "code",
   "execution_count": 11,
   "metadata": {},
   "outputs": [],
   "source": [
    "import ase.io\n",
    "import numpy as np\n",
    "import torch\n",
    "import os\n",
    "from pymatgen.io.ase import AseAtomsAdaptor\n",
    "from ase.neighborlist import NeighborList, NewPrimitiveNeighborList, PrimitiveNeighborList"
   ]
  },
  {
   "cell_type": "code",
   "execution_count": 12,
   "metadata": {},
   "outputs": [],
   "source": [
    "k = open(\"/checkpoint/mshuaibi/ocpdata_728k_raw.txt\", \"r\")\n",
    "ase_paths = k.read().splitlines()"
   ]
  },
  {
   "cell_type": "code",
   "execution_count": 13,
   "metadata": {},
   "outputs": [],
   "source": [
    "images = ase.io.read(\"/checkpoint/sidgoyal/electro_done/random1623153.traj\", \":\")\n",
    "image = images[768]"
   ]
  },
  {
   "cell_type": "code",
   "execution_count": 4,
   "metadata": {},
   "outputs": [],
   "source": [
    "def get_neighbors_pymatgen(atoms, cutoff):\n",
    "    \"\"\"Preforms nearest neighbor search and returns split neighbors indices and distances\"\"\"\n",
    "    struct = AseAtomsAdaptor.get_structure(atoms)\n",
    "    # these return jagged arrays meaning certain atoms have more neighbors than others\n",
    "    _c_index, _n_index, _offsets, n_distance = struct.get_neighbor_list(\n",
    "        r=cutoff, exclude_self=True\n",
    "    )\n",
    "    \n",
    "    return _c_index, _n_index, _offsets, n_distance\n",
    "\n",
    "def _reshape_features(c_index, n_index, offsets, n_distance):\n",
    "    edge_index = torch.LongTensor(np.vstack((c_index, n_index)))\n",
    "    edge_distances = torch.FloatTensor(n_distance)\n",
    "    cell_offsets = torch.LongTensor(offsets)\n",
    "    \n",
    "    # remove distances smaller than a tolerance~0. The small tolerance is introduced\n",
    "    # to correct for pymatgen's neighbor list returning self atoms in a few edge cases\n",
    "    nonzero = torch.nonzero(edge_distances >= 1e-8).flatten()\n",
    "    edge_index = edge_index[:, nonzero]\n",
    "    edge_distances = edge_distances[nonzero]\n",
    "    cell_offsets = cell_offsets[nonzero]\n",
    "    \n",
    "    return edge_index, edge_distances, cell_offsets\n",
    "\n",
    "def get_neighbors_ase(image, cutoff):\n",
    "    n = NeighborList(cutoffs=[cutoff / 2.0] * len(image),\n",
    "        self_interaction=False, skin=0, bothways=True,\n",
    "        primitive=NewPrimitiveNeighborList\n",
    "    )\n",
    "    n.update(image)\n",
    "    return [n.get_neighbors(index) for index in range(len(image))]"
   ]
  },
  {
   "cell_type": "code",
   "execution_count": 30,
   "metadata": {},
   "outputs": [],
   "source": [
    "struct = AseAtomsAdaptor.get_structure(image)\n",
    "_c_index, _n_index, _offsets, n_distance = struct.get_neighbor_list(\n",
    "    r=6, exclude_self=True\n",
    ")\n",
    "\n",
    "_nonmax_idx = []\n",
    "for i in range(len(image)):\n",
    "    idx_i = (_c_index == i).nonzero()[0]\n",
    "    # sort neighbors by distance, remove edges larger than max_neighbors\n",
    "    idx_sorted = np.argsort(n_distance[idx_i])[: 5]\n",
    "    _nonmax_idx.append(idx_i[idx_sorted])\n",
    "_nonmax_idx = np.concatenate(_nonmax_idx)\n",
    "\n",
    "_c_index1 = _c_index[_nonmax_idx]\n",
    "_n_index1 = _n_index[_nonmax_idx]"
   ]
  },
  {
   "cell_type": "code",
   "execution_count": 31,
   "metadata": {},
   "outputs": [
    {
     "data": {
      "text/plain": [
       "array([0, 0, 0, 0, 0, 0, 0, 1, 1, 1, 1, 1, 1, 1, 1, 1, 1], dtype=int64)"
      ]
     },
     "execution_count": 31,
     "metadata": {},
     "output_type": "execute_result"
    }
   ],
   "source": [
    "_c_index[:17]"
   ]
  },
  {
   "cell_type": "code",
   "execution_count": 32,
   "metadata": {},
   "outputs": [
    {
     "data": {
      "text/plain": [
       "array([40,  8, 64, 46, 22, 72, 61, 41, 33,  9, 46, 22, 79, 65, 47, 23, 72],\n",
       "      dtype=int64)"
      ]
     },
     "execution_count": 32,
     "metadata": {},
     "output_type": "execute_result"
    }
   ],
   "source": [
    "_n_index[:17]"
   ]
  },
  {
   "cell_type": "code",
   "execution_count": 34,
   "metadata": {},
   "outputs": [
    {
     "data": {
      "text/plain": [
       "array([0, 0, 0, 0, 0, 1, 1, 1, 1, 1, 2, 2, 2, 2, 2, 3, 3], dtype=int64)"
      ]
     },
     "execution_count": 34,
     "metadata": {},
     "output_type": "execute_result"
    }
   ],
   "source": [
    "_c_index1[:17]"
   ]
  },
  {
   "cell_type": "code",
   "execution_count": 35,
   "metadata": {},
   "outputs": [
    {
     "data": {
      "text/plain": [
       "array([ 8, 64, 40, 61, 46,  9, 65, 41, 33, 79, 10, 39, 34, 53, 66, 11, 43],\n",
       "      dtype=int64)"
      ]
     },
     "execution_count": 35,
     "metadata": {},
     "output_type": "execute_result"
    }
   ],
   "source": [
    "_n_index1[:17]"
   ]
  },
  {
   "cell_type": "code",
   "execution_count": 5,
   "metadata": {},
   "outputs": [
    {
     "name": "stderr",
     "output_type": "stream",
     "text": [
      "/opt/conda/conda-bld/pytorch_1591914742272/work/torch/csrc/utils/python_arg_parser.cpp:756: UserWarning: This overload of nonzero is deprecated:\n",
      "\tnonzero(Tensor input, *, Tensor out)\n",
      "Consider using one of the following signatures instead:\n",
      "\tnonzero(Tensor input, *, bool as_tuple)\n"
     ]
    }
   ],
   "source": [
    "c, n, o, dist = get_neighbors_pymatgen(image, 6)\n",
    "ed, dist, co = _reshape_features(c, n, o, dist)\n",
    "ed = ed.numpy()\n",
    "dist = dist.numpy()"
   ]
  },
  {
   "cell_type": "code",
   "execution_count": 17,
   "metadata": {},
   "outputs": [
    {
     "data": {
      "text/plain": [
       "array([ 0,  0,  0, ..., 84, 84, 84], dtype=int64)"
      ]
     },
     "execution_count": 17,
     "metadata": {},
     "output_type": "execute_result"
    }
   ],
   "source": [
    "c"
   ]
  },
  {
   "cell_type": "code",
   "execution_count": 18,
   "metadata": {},
   "outputs": [
    {
     "data": {
      "text/plain": [
       "array([40,  8, 64, ..., 73, 29, 42], dtype=int64)"
      ]
     },
     "execution_count": 18,
     "metadata": {},
     "output_type": "execute_result"
    }
   ],
   "source": [
    "n"
   ]
  },
  {
   "cell_type": "code",
   "execution_count": 21,
   "metadata": {},
   "outputs": [
    {
     "data": {
      "text/plain": [
       "array([3.9220517, 3.054488 , 3.857755 , ..., 5.830055 , 3.9825108,\n",
       "       3.816854 ], dtype=float32)"
      ]
     },
     "execution_count": 21,
     "metadata": {},
     "output_type": "execute_result"
    }
   ],
   "source": [
    "dist"
   ]
  },
  {
   "cell_type": "code",
   "execution_count": 7,
   "metadata": {},
   "outputs": [],
   "source": [
    "max_neigh = 10\n",
    "idx_to_keep = []\n",
    "for i in range(len(image)):\n",
    "    idx = (c==i).nonzero()[0][:max_neigh].tolist()\n",
    "    idx_to_keep += idx"
   ]
  },
  {
   "cell_type": "code",
   "execution_count": 8,
   "metadata": {},
   "outputs": [],
   "source": [
    "nonmax_idx = np.concatenate([(c==i).nonzero()[0][:max_neigh] for i in range(len(image))])"
   ]
  },
  {
   "cell_type": "code",
   "execution_count": 9,
   "metadata": {},
   "outputs": [
    {
     "data": {
      "text/plain": [
       "(797,)"
      ]
     },
     "execution_count": 9,
     "metadata": {},
     "output_type": "execute_result"
    }
   ],
   "source": [
    "c[nonmax_idx].shape"
   ]
  },
  {
   "cell_type": "code",
   "execution_count": 10,
   "metadata": {},
   "outputs": [
    {
     "data": {
      "text/plain": [
       "(797,)"
      ]
     },
     "execution_count": 10,
     "metadata": {},
     "output_type": "execute_result"
    }
   ],
   "source": [
    "n[nonmax_idx].shape"
   ]
  },
  {
   "cell_type": "code",
   "execution_count": 11,
   "metadata": {},
   "outputs": [
    {
     "data": {
      "text/plain": [
       "(797, 3)"
      ]
     },
     "execution_count": 11,
     "metadata": {},
     "output_type": "execute_result"
    }
   ],
   "source": [
    "o[nonmax_idx].shape"
   ]
  },
  {
   "cell_type": "code",
   "execution_count": 12,
   "metadata": {},
   "outputs": [
    {
     "data": {
      "text/plain": [
       "(797,)"
      ]
     },
     "execution_count": 12,
     "metadata": {},
     "output_type": "execute_result"
    }
   ],
   "source": [
    "dist[nonmax_idx].shape"
   ]
  },
  {
   "cell_type": "code",
   "execution_count": null,
   "metadata": {},
   "outputs": [],
   "source": [
    "source_idx = []\n",
    "target_idx = []\n",
    "ase_neighbors = get_neighbors_ase(image, 6)\n",
    "neighbors = []\n",
    "ase_offsets = []\n",
    "for i,j in enumerate(ase_neighbors):\n",
    "    source_idx += [i]*len(j[0])\n",
    "    target_idx += j[0].tolist()\n",
    "    neighbors.append(len(j[0]))\n",
    "    ase_offsets.append(j[1])\n",
    "\n",
    "source_idx = np.array(source_idx)\n",
    "target_idx = np.array(target_idx)\n",
    "ase_offsets = np.concatenate(np.array(ase_offsets))"
   ]
  },
  {
   "cell_type": "code",
   "execution_count": null,
   "metadata": {},
   "outputs": [],
   "source": [
    "np.dot(ase_neighbors[4][1], image.cell)"
   ]
  },
  {
   "cell_type": "code",
   "execution_count": null,
   "metadata": {},
   "outputs": [],
   "source": [
    "source_idx.shape"
   ]
  },
  {
   "cell_type": "code",
   "execution_count": null,
   "metadata": {},
   "outputs": [],
   "source": [
    "pos = torch.tensor(image.positions)\n",
    "cell = torch.tensor(image.cell).view(1, 3, 3)\n",
    "offset = torch.tensor(co)"
   ]
  },
  {
   "cell_type": "code",
   "execution_count": null,
   "metadata": {},
   "outputs": [],
   "source": [
    "source_idx = ed[0, :]\n",
    "target_idx = ed[1, :]"
   ]
  },
  {
   "cell_type": "code",
   "execution_count": null,
   "metadata": {},
   "outputs": [],
   "source": [
    "distance_vectors = torch.tensor(pos[source_idx] - pos[target_idx])\n",
    "\n",
    "# correct for pbc\n",
    "cells = torch.repeat_interleave(cell, 1012, dim=0)\n",
    "offsets = offset.float().view(-1, 1, 3).bmm(cells.float()).view(-1, 3)\n",
    "distance_vectors -= offsets\n",
    "\n",
    "# compute distances\n",
    "distances = distance_vectors.norm(dim=-1)"
   ]
  },
  {
   "cell_type": "code",
   "execution_count": 1,
   "metadata": {},
   "outputs": [],
   "source": [
    "from ocpmodels.common.utils import get_pbc_distances\n",
    "from utils.dataset import get_ocpimage_dataset, data_list_collater\n",
    "from torch.utils.data import DataLoader\n",
    "\n",
    "dataset = get_ocpimage_dataset(src=\"/checkpoint/mshuaibi/ocpdata_reset_07_13_20/val/ocpdata_val_200kv4/\")\n",
    "loader = DataLoader(dataset, batch_size=200, shuffle=True, collate_fn=data_list_collater, num_workers=50)\n",
    "\n",
    "data = next(iter(loader))"
   ]
  },
  {
   "cell_type": "code",
   "execution_count": null,
   "metadata": {},
   "outputs": [],
   "source": [
    "edge_index, edge_dist, edge_vec = get_pbc_distances(\n",
    "    data.pos,\n",
    "    data.edge_index,\n",
    "    data.cell,\n",
    "    data.cell_offsets,\n",
    "    data.neighbors,\n",
    "    6\n",
    ")"
   ]
  }
 ],
 "metadata": {
  "kernelspec": {
   "display_name": "Python 3",
   "language": "python",
   "name": "python3"
  },
  "language_info": {
   "codemirror_mode": {
    "name": "ipython",
    "version": 3
   },
   "file_extension": ".py",
   "mimetype": "text/x-python",
   "name": "python",
   "nbconvert_exporter": "python",
   "pygments_lexer": "ipython3",
   "version": "3.6.10"
  }
 },
 "nbformat": 4,
 "nbformat_minor": 4
}
