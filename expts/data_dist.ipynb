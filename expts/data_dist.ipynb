{
 "cells": [
  {
   "cell_type": "code",
   "execution_count": null,
   "metadata": {},
   "outputs": [],
   "source": [
    "import ase.io\n",
    "import pickle\n",
    "import seaborn as sns\n",
    "import os\n",
    "from tqdm.notebook import tqdm\n",
    "import multiprocessing as mp\n",
    "import numpy as np\n",
    "import matplotlib.pyplot as plt\n",
    "import random\n",
    "import shutil"
   ]
  },
  {
   "cell_type": "code",
   "execution_count": null,
   "metadata": {},
   "outputs": [],
   "source": [
    "k = open(\"/checkpoint/electrocatalysis/relaxations/mapping/final_splits_with_adbulk_ids/train.txt\", \"r\")\n",
    "systems = k.read().splitlines()\n",
    "j = open(\"/checkpoint/electrocatalysis/relaxations/mapping/pickled_mapping/adslab_ref_energies_full.pkl\", \"rb\")\n",
    "ref = pickle.load(j)\n",
    "l = open(\"/checkpoint/electrocatalysis/relaxations/mapping/pickled_mapping/mapping_inputid_to_input_bulk_adbulk_paths.pkl\", \"rb\")\n",
    "map_to_adbulk = pickle.load(l)\n",
    "m = open(\"/checkpoint/electrocatalysis/relaxations/mapping/pickled_mapping/mapping_inputid_to_bulkid_bulkenergy_adbulkid_adbulkpath.pkl\", \"rb\")\n",
    "adbulk_to_path = pickle.load(m)\n",
    "n = open(\"/checkpoint/electrocatalysis/relaxations/mapping/pickled_mapping/adslab_tags_full.pkl\", \"rb\")\n",
    "tags = pickle.load(n)\n",
    "p = open(\"/checkpoint/electrocatalysis/relaxations/mapping/pickled_mapping/mapping_adbulkid_to_bulksamplingindex_and_adsorbatesamplingindex.pkl\", \"rb\")\n",
    "adbulk = pickle.load(p)"
   ]
  },
  {
   "cell_type": "code",
   "execution_count": null,
   "metadata": {},
   "outputs": [],
   "source": [
    "kevin_files = [\n",
    " ('random2596439', -6.976668719999964),\n",
    " ('random2677552', -6.955325500000015),\n",
    " ('random2608547', -6.602295690000034),\n",
    " ('random2615796', -5.915663819999963),\n",
    " ('random2629845', -5.381871520000004),\n",
    " ('random1560659', -5.354388380000046),\n",
    " ('random2626060', -5.127281750000009),\n",
    " ('random2265124', -5.125147630000015),\n",
    " ('random1195282', -5.068634010000039),\n",
    "]"
   ]
  },
  {
   "cell_type": "code",
   "execution_count": null,
   "metadata": {},
   "outputs": [],
   "source": [
    "randomids = []\n",
    "for i in kevin_files:\n",
    "    randomids.append(i[0])"
   ]
  },
  {
   "cell_type": "code",
   "execution_count": null,
   "metadata": {},
   "outputs": [],
   "source": [
    "path = adbulk_to_path[randomids[0]][\"adbulk_path\"]\n",
    "tags = tags[randomids[0]]"
   ]
  },
  {
   "cell_type": "code",
   "execution_count": null,
   "metadata": {},
   "outputs": [],
   "source": [
    "path"
   ]
  },
  {
   "cell_type": "code",
   "execution_count": null,
   "metadata": {},
   "outputs": [],
   "source": [
    "images = ase.io.read(path, \":\")\n",
    "images[-1].info[\"tags\"] = tags"
   ]
  },
  {
   "cell_type": "code",
   "execution_count": null,
   "metadata": {},
   "outputs": [],
   "source": [
    "ase.io.write(\"test.extxyz\", images)"
   ]
  },
  {
   "cell_type": "code",
   "execution_count": null,
   "metadata": {},
   "outputs": [],
   "source": [
    "images = ase.io.read(\"test.extxyz\", \"-1\")"
   ]
  },
  {
   "cell_type": "code",
   "execution_count": null,
   "metadata": {},
   "outputs": [],
   "source": [
    "images"
   ]
  },
  {
   "cell_type": "code",
   "execution_count": null,
   "metadata": {},
   "outputs": [],
   "source": [
    "images = images[0]"
   ]
  },
  {
   "cell_type": "code",
   "execution_count": null,
   "metadata": {},
   "outputs": [],
   "source": [
    "joined_traj = images + images"
   ]
  },
  {
   "cell_type": "code",
   "execution_count": null,
   "metadata": {},
   "outputs": [],
   "source": [
    "d = {}\n",
    "# d['id'] = adbulk_id\n",
    "d['symbols'] = images.get_chemical_symbols()\n",
    "d['energy'] = images.get_potential_energy(apply_constraint=False)\n",
    "d['force'] = images.get_forces(apply_constraint=False)\n",
    "d['pos'] = images.get_positions()\n",
    "# d['tag'] = tags\n",
    "d['cell'] = images.cell\n",
    "# d['adsor_ene'] = adenergy"
   ]
  },
  {
   "cell_type": "code",
   "execution_count": null,
   "metadata": {},
   "outputs": [],
   "source": [
    "images"
   ]
  },
  {
   "cell_type": "code",
   "execution_count": null,
   "metadata": {},
   "outputs": [],
   "source": [
    "from ase import Atoms\n",
    "from ase.calculators.singlepoint import SinglePointCalculator as sp\n",
    "\n",
    "atoms = Atoms(symbols=d['symbols'], positions=d['pos'], pbc=True, cell=d['cell'])\n",
    "calc = sp(atoms=atoms, energy=d['energy'], forces=d['force'])\n",
    "atoms.set_calculator(calc)"
   ]
  },
  {
   "cell_type": "code",
   "execution_count": null,
   "metadata": {},
   "outputs": [],
   "source": [
    "atoms"
   ]
  },
  {
   "cell_type": "code",
   "execution_count": null,
   "metadata": {},
   "outputs": [],
   "source": [
    "k = open(\"/checkpoint/electrocatalysis/relaxations/mapping/final_splits_with_adbulk_ids/deleted/train_del.txt\", \"r\")\n",
    "test = k.read().splitlines()"
   ]
  },
  {
   "cell_type": "code",
   "execution_count": null,
   "metadata": {},
   "outputs": [],
   "source": [
    "elements = []\n",
    "for idx in tqdm(test):\n",
    "    adbulkid = map_to_adbulk[idx][\"mapped_adbulk_id\"]\n",
    "    path = adbulk_to_path[adbulkid][\"adbulk_path\"]\n",
    "    images = ase.io.read(path)\n",
    "    tag = tags[idx]\n",
    "    surface_idx = (tag != 2).nonzero()[0]\n",
    "    surface_elements = images.get_atomic_numbers()[surface_idx]\n",
    "    unique_surface = list(set(surface_elements))\n",
    "    elements += unique_surface"
   ]
  },
  {
   "cell_type": "code",
   "execution_count": null,
   "metadata": {},
   "outputs": [],
   "source": [
    "len(elements)"
   ]
  },
  {
   "cell_type": "code",
   "execution_count": null,
   "metadata": {},
   "outputs": [],
   "source": [
    "red = [3, 11, 19, 37, 55, 87]\n",
    "yellow = [1, 7, 8, 9, 15, 16, 17, 34, 35, 53]\n",
    "blue = [2, 10, 18, 36, 54, 86]"
   ]
  },
  {
   "cell_type": "code",
   "execution_count": null,
   "metadata": {},
   "outputs": [],
   "source": [
    "red_count = 0\n",
    "yellow_count = 0\n",
    "blue_count = 0\n",
    "\n",
    "for e in elements:\n",
    "    if e in red:\n",
    "        red_count += 1 \n",
    "    if e in yellow:\n",
    "        yellow_count += 1\n",
    "    if e in blue:\n",
    "        blue_count += 1"
   ]
  },
  {
   "cell_type": "code",
   "execution_count": null,
   "metadata": {},
   "outputs": [],
   "source": [
    "red_count"
   ]
  },
  {
   "cell_type": "code",
   "execution_count": null,
   "metadata": {},
   "outputs": [],
   "source": [
    "yellow_count"
   ]
  },
  {
   "cell_type": "code",
   "execution_count": null,
   "metadata": {},
   "outputs": [],
   "source": [
    "yellow_count + red_count"
   ]
  },
  {
   "cell_type": "code",
   "execution_count": null,
   "metadata": {},
   "outputs": [],
   "source": [
    "blue_count"
   ]
  },
  {
   "cell_type": "code",
   "execution_count": null,
   "metadata": {},
   "outputs": [],
   "source": [
    "def check_delete(inputid, tol=50):\n",
    "    adid = map_to_adbulk[inputid][\"mapped_adbulk_id\"]\n",
    "    path =adbulk_to_path[adid][\"adbulk_path\"]\n",
    "    images = ase.io.trajectory.Trajectory(path)\n",
    "    to_write = []\n",
    "    for image in images[2:]:\n",
    "        energy = image.get_potential_energy() - ref[adid]\n",
    "        if np.abs(energy) > tol:\n",
    "            return inputid"
   ]
  },
  {
   "cell_type": "code",
   "execution_count": null,
   "metadata": {},
   "outputs": [],
   "source": [
    "pool = mp.Pool(60)\n",
    "outputs = list(tqdm(pool.imap(check_delete, systems[:10000]), total=len(systems[:10000])))"
   ]
  },
  {
   "cell_type": "code",
   "execution_count": null,
   "metadata": {},
   "outputs": [],
   "source": [
    "to_delete = []\n",
    "for output in tqdm(outputs):\n",
    "    if output is not None:\n",
    "        to_delete.append(output)"
   ]
  },
  {
   "cell_type": "code",
   "execution_count": null,
   "metadata": {},
   "outputs": [],
   "source": [
    "len(to_delete)"
   ]
  },
  {
   "cell_type": "code",
   "execution_count": null,
   "metadata": {},
   "outputs": [],
   "source": [
    "def read_files(path):\n",
    "    try:\n",
    "        randomid = os.path.basename(path)[:-5]\n",
    "        images = ase.io.trajectory.Trajectory(path)\n",
    "        energies = [image.get_potential_energy() - ref[randomid] for image in images]\n",
    "        forces = [image.get_forces(apply_constraint=False) for image in images]\n",
    "        return energies, forces\n",
    "    except:\n",
    "        pass"
   ]
  },
  {
   "cell_type": "code",
   "execution_count": null,
   "metadata": {},
   "outputs": [],
   "source": [
    "pool = mp.Pool(60)\n",
    "outputs = list(tqdm(pool.imap(read_files, ase_paths[:10000]), total=10000))"
   ]
  },
  {
   "cell_type": "code",
   "execution_count": null,
   "metadata": {},
   "outputs": [],
   "source": [
    "energies = []\n",
    "forces = []\n",
    "filtered_paths = []\n",
    "\n",
    "for i, output in tqdm(enumerate(outputs)):\n",
    "    try:\n",
    "        energies += output[0]\n",
    "        forces += output[1]\n",
    "        t = np.array(output[0][5:])\n",
    "        for j in t:\n",
    "            if np.abs(j)>=50:\n",
    "                filtered_paths.append(ase_paths[i])\n",
    "                break\n",
    "        \n",
    "    except:\n",
    "        continue\n",
    "        \n",
    "energies = np.array(energies)"
   ]
  },
  {
   "cell_type": "code",
   "execution_count": null,
   "metadata": {},
   "outputs": [],
   "source": [
    "len(filtered_paths)"
   ]
  },
  {
   "cell_type": "code",
   "execution_count": null,
   "metadata": {},
   "outputs": [],
   "source": [
    "os.makedirs(\"filtered_traj\", exist_ok=True)\n",
    "for i in filtered_paths[:10]:\n",
    "    images = ase.io.read(i, \":\")\n",
    "    ase.io.write(f\"filtered_traj/{os.path.basename(i)}\", images)"
   ]
  },
  {
   "cell_type": "code",
   "execution_count": null,
   "metadata": {},
   "outputs": [],
   "source": [
    "len((np.abs(energies) >= 50).nonzero()[0])"
   ]
  },
  {
   "cell_type": "code",
   "execution_count": null,
   "metadata": {},
   "outputs": [],
   "source": [
    "filters = [5, 10, 15, 20, 30, 50, 1e9]\n",
    "energy_mean = []\n",
    "energy_std = []\n",
    "forces_mean = []\n",
    "forces_std = []\n",
    "prop = []\n",
    "\n",
    "for f in [5, 10, 15, 20, 30, 50, 1e9]:\n",
    "    filter_idx = (np.abs(energies) <= f).nonzero()[0]\n",
    "    n_removed = (len(energies)-len(filter_idx))/len(energies)\n",
    "    filter_energies = energies[filter_idx]\n",
    "    forces_filtered = []\n",
    "    for i in filter_idx:\n",
    "        forces_filtered.append(forces[i])\n",
    "    forces_filtered = np.concatenate(np.array(forces_filtered))\n",
    "    \n",
    "    e_m = filter_energies.mean()\n",
    "    e_std = filter_energies.std()\n",
    "    f_m = forces_filtered.mean()\n",
    "    f_std = forces_filtered.std()\n",
    "    \n",
    "    energy_mean.append(e_m)\n",
    "    energy_std.append(e_std)\n",
    "    forces_mean.append(f_m)\n",
    "    forces_std.append(f_std)\n",
    "    prop.append(n_removed)\n",
    "    \n",
    "    print(f\"Filter(eV): {f}\")\n",
    "    print(f\"Energy mean, eV: {e_m}\")\n",
    "    print(f\"Energy std, eV: {e_std}\")\n",
    "    print(f\"Forces mean, eV/A: {f_m}\")\n",
    "    print(f\"Forces std, eV/A: {f_std}\")\n",
    "    print(f\"Proportion removed: {n_removed}\")\n",
    "    \n",
    "    print()"
   ]
  },
  {
   "cell_type": "code",
   "execution_count": null,
   "metadata": {},
   "outputs": [],
   "source": [
    "plt.plot(filters[:-1], prop[:-1])\n",
    "plt.xlabel(\"Filter (eV)\", fontsize=12)\n",
    "plt.ylabel(\"Proportion removed\", fontsize=12)\n",
    "\n",
    "plt.ylim(0, 0.01)\n",
    "plt.tick_params(labelsize=10)"
   ]
  },
  {
   "cell_type": "code",
   "execution_count": null,
   "metadata": {},
   "outputs": [],
   "source": [
    "filters = [5, 10, 15, 20, 30, 50, 1e9]\n",
    "energy_mean2 = []\n",
    "energy_std2 = []\n",
    "forces_mean2 = []\n",
    "forces_std2 = []\n",
    "prop2 = []\n",
    "\n",
    "for f in [5, 10, 15, 20, 30, 50, 1e9]:\n",
    "    forces_filtered = []\n",
    "    filter_idx = []\n",
    "    for i, image_forces in enumerate(forces):\n",
    "        max_force = np.max(np.abs(image_forces))\n",
    "        if max_force <= f:\n",
    "            forces_filtered.append(image_forces)\n",
    "            filter_idx.append(i)\n",
    "    n_removed = (len(forces)-len(filter_idx))/len(forces)\n",
    "    filter_energies = energies[filter_idx]\n",
    "    forces_filtered = np.concatenate(np.array(forces_filtered))\n",
    "    \n",
    "    e_m = filter_energies.mean()\n",
    "    e_std = filter_energies.std()\n",
    "    f_m = forces_filtered.mean()\n",
    "    f_std = forces_filtered.std()\n",
    "    \n",
    "    energy_mean2.append(e_m)\n",
    "    energy_std2.append(e_std)\n",
    "    forces_mean2.append(f_m)\n",
    "    forces_std2.append(f_std)\n",
    "    prop2.append(n_removed)\n",
    "    \n",
    "    print(f\"Filter(eV): {f}\")\n",
    "    print(f\"Energy mean, eV: {e_m}\")\n",
    "    print(f\"Energy std, eV: {e_std}\")\n",
    "    print(f\"Forces mean, eV/A: {f_m}\")\n",
    "    print(f\"Forces std, eV/A: {f_std}\")\n",
    "    print(f\"Proportion removed: {n_removed}\")\n",
    "    \n",
    "    print()"
   ]
  },
  {
   "cell_type": "code",
   "execution_count": null,
   "metadata": {},
   "outputs": [],
   "source": [
    "plt.plot(filters[:-1], prop2[:-1])\n",
    "plt.xlabel(\"Filter (eV/A)\", fontsize=12)\n",
    "plt.ylabel(\"Proportion removed\", fontsize=12)\n",
    "plt.ylim(0, 0.01)\n",
    "plt.tick_params(labelsize=10)"
   ]
  },
  {
   "cell_type": "code",
   "execution_count": null,
   "metadata": {},
   "outputs": [],
   "source": [
    "k = open(\"/checkpoint/electrocatalysis/relaxations/bulkadsorbate/chunk19/random547988.traj\", \"r\")\n",
    "systems = k.read().splitlines()"
   ]
  },
  {
   "cell_type": "code",
   "execution_count": null,
   "metadata": {},
   "outputs": [],
   "source": [
    "import random\n",
    "\n",
    "images = ase.io.read(\"/checkpoint/electrocatalysis/relaxations/bulkadsorbate/chunk36/random1742698.traj\", \":\")"
   ]
  },
  {
   "cell_type": "code",
   "execution_count": null,
   "metadata": {},
   "outputs": [],
   "source": [
    "energies = [image.get_potential_energy() - ref[\"random1742698\"] for image in images]\n",
    "print(energies[-1])"
   ]
  },
  {
   "cell_type": "code",
   "execution_count": null,
   "metadata": {},
   "outputs": [],
   "source": [
    "plt.plot(range(len(energies)), energies)\n",
    "plt.xlabel(\"steps\")\n",
    "plt.ylabel(\"energy\")"
   ]
  },
  {
   "cell_type": "code",
   "execution_count": null,
   "metadata": {},
   "outputs": [],
   "source": [
    "ase.io.write(\"test.traj\", images)"
   ]
  },
  {
   "cell_type": "code",
   "execution_count": null,
   "metadata": {},
   "outputs": [],
   "source": [
    "import glob\n",
    "import os"
   ]
  },
  {
   "cell_type": "code",
   "execution_count": null,
   "metadata": {},
   "outputs": [],
   "source": [
    "deleted = glob.glob(\"/checkpoint/electrocatalysis/relaxations/mapping/final_splits_with_adbulk_ids/S2EF_filteredv2/deleted/\"+\"*txt\")\n",
    "train = glob.glob(\"/checkpoint/electrocatalysis/relaxations/mapping/final_splits_with_adbulk_ids/S2EF_filteredv2/\"+\"*txt\")"
   ]
  },
  {
   "cell_type": "code",
   "execution_count": null,
   "metadata": {},
   "outputs": [],
   "source": [
    "total = 0\n",
    "for path in train:\n",
    "    print(os.path.basename(path)[:-4])\n",
    "    with open(path, \"r\") as f:\n",
    "        files = f.read().splitlines()\n",
    "    print(len(files))\n",
    "    total+=len(files)\n",
    "    print()"
   ]
  },
  {
   "cell_type": "code",
   "execution_count": null,
   "metadata": {},
   "outputs": [],
   "source": [
    "25/-1"
   ]
  },
  {
   "cell_type": "code",
   "execution_count": null,
   "metadata": {},
   "outputs": [],
   "source": [
    "total = 0\n",
    "for path in deleted:\n",
    "    print(os.path.basename(path)[:-4])\n",
    "    with open(path, \"r\") as f:\n",
    "        files = f.read().splitlines()\n",
    "    print(len(files))\n",
    "    total+=len(files)\n",
    "    print()"
   ]
  },
  {
   "cell_type": "code",
   "execution_count": null,
   "metadata": {},
   "outputs": [],
   "source": [
    "images = ase.io.read(\"/private/home/sidgoyal/1.traj\", \":\")\n",
    "images[0].set_tags([5]*25)"
   ]
  },
  {
   "cell_type": "code",
   "execution_count": 1,
   "metadata": {},
   "outputs": [],
   "source": [
    "import ase.io\n",
    "import numpy as np\n",
    "import ase.io.extxyz as extxyz"
   ]
  },
  {
   "cell_type": "code",
   "execution_count": 2,
   "metadata": {},
   "outputs": [],
   "source": [
    "fname = \"/private/home/sidgoyal/Open-Catalyst-Dataset/space_optimize/traj_files/random1000099.traj\"\n",
    "tags = [0, 0, 1, 1, 0, 0, 0, 0, 0, 0, 1, 0, 1, 0, 0, 0, 1, 0, 0, 0, 0, 0, 0, 0, 1, 0, 0, 0, 0, 0, 0, 0, 0, 0, 0, 1, 1, 0, 0, 0, 1, 0, 0, 1, 0, 1, 0, 0, 2, 2, 2, 2, 2, 2, 2, 2, 2, 2, 2]"
   ]
  },
  {
   "cell_type": "code",
   "execution_count": 3,
   "metadata": {},
   "outputs": [],
   "source": [
    "def xyz_map(fname, tags):\n",
    "    all_images = ase.io.read(fname, \":\")\n",
    "    tags = np.array(tags)\n",
    "    for image in all_images:\n",
    "        image.set_tags(tags)\n",
    "\n",
    "    return all_images\n",
    "\n",
    "def write_xyz(images, fname):\n",
    "    columns = (['symbols','positions', 'move_mask', 'tags'])\n",
    "    with open(\"test.extxyz\",'w') as f:\n",
    "        extxyz.write_xyz(f, images, columns=columns)"
   ]
  },
  {
   "cell_type": "code",
   "execution_count": 4,
   "metadata": {},
   "outputs": [],
   "source": [
    "images = xyz_map(fname, tags)\n",
    "write_xyz(images, fname)"
   ]
  },
  {
   "cell_type": "code",
   "execution_count": 5,
   "metadata": {},
   "outputs": [
    {
     "data": {
      "text/plain": [
       "-158.63239049"
      ]
     },
     "execution_count": 5,
     "metadata": {},
     "output_type": "execute_result"
    }
   ],
   "source": [
    "images[0].get_potential_energy()"
   ]
  },
  {
   "cell_type": "code",
   "execution_count": 6,
   "metadata": {},
   "outputs": [],
   "source": [
    "test_images = ase.io.read(\"test.extxyz\", \":\")"
   ]
  },
  {
   "cell_type": "code",
   "execution_count": 3,
   "metadata": {},
   "outputs": [],
   "source": [
    "import numpy as np"
   ]
  },
  {
   "cell_type": "code",
   "execution_count": 6,
   "metadata": {},
   "outputs": [],
   "source": [
    "batch_size = np.array([1, 2, 3, 4, 5])\n",
    "time_batch = np.array([\n",
    "    22.72, 29.01, 33.38, 43.82, 50.69\n",
    "])"
   ]
  },
  {
   "cell_type": "code",
   "execution_count": 17,
   "metadata": {},
   "outputs": [
    {
     "data": {
      "text/plain": [
       "<matplotlib.legend.Legend at 0x7fcc4a28d978>"
      ]
     },
     "execution_count": 17,
     "metadata": {},
     "output_type": "execute_result"
    },
    {
     "data": {
      "image/png": "[encoded data removed]",
      "text/plain": [
       "<Figure size 432x288 with 1 Axes>"
      ]
     },
     "metadata": {
      "needs_background": "light"
     },
     "output_type": "display_data"
    }
   ],
   "source": [
    "time_for_1k_traj = (1000/batch_size)*time_batch\n",
    "import matplotlib.pyplot as plt\n",
    "\n",
    "plt.plot(batch_size, time_for_1k_traj, '-ro', label=\"Torch-BFGS\")\n",
    "plt.scatter([1], [1000*20.08], label=\"ASE cpu\")\n",
    "plt.xlabel(\"batch size\")\n",
    "plt.ylabel(\"Time for 1k traj (s)\")\n",
    "plt.legend()"
   ]
  },
  {
   "cell_type": "code",
   "execution_count": null,
   "metadata": {},
   "outputs": [],
   "source": [
    "executor = submitit.AutoExecutor(folder=args.logdir / \"%j\")\n",
    "executor.update_parameters(\n",
    "    name=config[\"identifier\"],\n",
    "    mem_gb=args.slurm_mem,\n",
    "    timeout_min=args.slurm_timeout * 60,\n",
    "    slurm_partition=args.slurm_partition,\n",
    "    gpus_per_node=args.num_gpus,\n",
    "    cpus_per_task=(args.num_workers + 1),\n",
    "    tasks_per_node=(args.num_gpus if args.distributed else 1),\n",
    "    nodes=args.num_nodes,\n",
    "    additional_parameters={\"begin\": f\"now+{args.begin*3600}\"},\n",
    ")"
   ]
  },
  {
   "cell_type": "code",
   "execution_count": null,
   "metadata": {},
   "outputs": [],
   "source": [
    "f = open(\"/checkpoint/electrocatalysis/relaxations/mapping/final_splits_with_adbulk_ids/S2EF_filteredv2/val_is.txt\", \"r\")\n",
    "valids = f.read().splitlines()\n",
    "import shutil"
   ]
  },
  {
   "cell_type": "code",
   "execution_count": null,
   "metadata": {},
   "outputs": [],
   "source": [
    "for i in tqdm(valids[:10000]):\n",
    "    path = i.split(\",\")[0]\n",
    "    shutil.copy(path, \"/private/home/mshuaibi/ocp_10k_val/\")"
   ]
  },
  {
   "cell_type": "code",
   "execution_count": null,
   "metadata": {},
   "outputs": [],
   "source": [
    "import pickle\n",
    "import random"
   ]
  },
  {
   "cell_type": "code",
   "execution_count": null,
   "metadata": {},
   "outputs": [],
   "source": [
    "k = open(\"/private/home/mshuaibi/baselines/expts/eval_expt/eval_results.pkl\", \"rb\")"
   ]
  },
  {
   "cell_type": "code",
   "execution_count": null,
   "metadata": {},
   "outputs": [],
   "source": [
    "evals = pickle.load(k)\n",
    "key_len = len(evals.keys())"
   ]
  },
  {
   "cell_type": "code",
   "execution_count": null,
   "metadata": {},
   "outputs": [],
   "source": [
    "(0.04785+0.05556+0.05839)/3"
   ]
  },
  {
   "cell_type": "code",
   "execution_count": null,
   "metadata": {},
   "outputs": [],
   "source": [
    "trials_energy = []\n",
    "trials_forces = []\n",
    "val_sizes = range(100000, 10000000, 100000)\n",
    "for valsize in tqdm(val_sizes):\n",
    "    val_iter_energy = []\n",
    "    val_iter_forces = []\n",
    "    for k in range(100):\n",
    "        samples = random.sample(range(key_len), int(valsize/128))\n",
    "\n",
    "        energy_cmlt = []\n",
    "        force_cmlt = []\n",
    "        for i in samples:\n",
    "            e_mae = evals[i]['potential energy/mae']\n",
    "            fx = evals[i]['force_x/mae']\n",
    "            fy = evals[i]['force_y/mae']\n",
    "            fz = evals[i]['force_z/mae']\n",
    "            favg = (fx+fy+fz)/3\n",
    "            energy_cmlt.append(e_mae)\n",
    "            force_cmlt.append(favg)\n",
    "\n",
    "        val_energy = np.mean(energy_cmlt)\n",
    "        val_forces = np.mean(force_cmlt)\n",
    "        \n",
    "        val_iter_energy.append(val_energy)\n",
    "        val_iter_forces.append(val_forces)\n",
    "        \n",
    "    val_avg_energy = np.std(val_iter_energy)\n",
    "    val_avg_forces = np.std(val_iter_forces)\n",
    "    \n",
    "    trials_energy.append(val_avg_energy)\n",
    "    trials_forces.append(val_avg_forces)"
   ]
  },
  {
   "cell_type": "code",
   "execution_count": null,
   "metadata": {},
   "outputs": [],
   "source": [
    "plt.plot(val_sizes, trials_forces)\n",
    "plt.xlabel(\"Val Size\")\n",
    "plt.ylabel(\"Stdev, eV/A\")\n",
    "plt.title(\"Forces\")\n",
    "# plt.xscale(\"log\")"
   ]
  },
  {
   "cell_type": "code",
   "execution_count": null,
   "metadata": {},
   "outputs": [],
   "source": [
    "plt.plot(val_sizes, trials_energy)\n",
    "plt.xlabel(\"Val Size\")\n",
    "plt.ylabel(\"Stdev, eV\")\n",
    "plt.title(\"Energy\")\n",
    "# plt.xscale(\"log\")"
   ]
  }
 ],
 "metadata": {
  "kernelspec": {
   "display_name": "Python 3",
   "language": "python",
   "name": "python3"
  },
  "language_info": {
   "codemirror_mode": {
    "name": "ipython",
    "version": 3
   },
   "file_extension": ".py",
   "mimetype": "text/x-python",
   "name": "python",
   "nbconvert_exporter": "python",
   "pygments_lexer": "ipython3",
   "version": "3.6.10"
  }
 },
 "nbformat": 4,
 "nbformat_minor": 4
}
