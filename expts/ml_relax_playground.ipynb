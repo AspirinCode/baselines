{
 "cells": [
  {
   "cell_type": "code",
   "execution_count": 9,
   "metadata": {},
   "outputs": [],
   "source": [
    "import ase.io\n",
    "import os\n",
    "import numpy as np\n",
    "from matplotlib import pyplot as plt\n",
    "import seaborn as sns\n",
    "import pickle\n",
    "import random"
   ]
  },
  {
   "cell_type": "code",
   "execution_count": 10,
   "metadata": {},
   "outputs": [],
   "source": [
    "k = open(\"/checkpoint/mshuaibi/mappings/adslab_ref_energies_ocp728k.pkl\", \"rb\")\n",
    "ref = pickle.load(k)"
   ]
  },
  {
   "cell_type": "code",
   "execution_count": 11,
   "metadata": {},
   "outputs": [],
   "source": [
    "t = open(\"/checkpoint/electrocatalysis/relaxations/mapping/pickled_mapping/adslab_ref_energies_full.pkl\", \"rb\")\n",
    "new = pickle.load(t)"
   ]
  },
  {
   "cell_type": "code",
   "execution_count": 12,
   "metadata": {},
   "outputs": [
    {
     "data": {
      "text/plain": [
       "1308508"
      ]
     },
     "execution_count": 12,
     "metadata": {},
     "output_type": "execute_result"
    }
   ],
   "source": [
    "len(list(new.keys()))"
   ]
  },
  {
   "cell_type": "code",
   "execution_count": null,
   "metadata": {},
   "outputs": [],
   "source": [
    "for i in ref.keys():\n",
    "    assert ref[i] == new[i]"
   ]
  },
  {
   "cell_type": "code",
   "execution_count": null,
   "metadata": {},
   "outputs": [],
   "source": [
    "model = \"ocp20M_2020-08-16-21-53-07-ocp20Mv6_schnet_lr0.0001_ch512_fltr256_gauss200_layrs3\""
   ]
  },
  {
   "cell_type": "code",
   "execution_count": null,
   "metadata": {},
   "outputs": [],
   "source": [
    "j = open(\"/private/home/mshuaibi/ocp-modeling/utils/val_sample.txt\", \"r\")\n",
    "paths = j.read().splitlines()\n",
    "paths = [\"/checkpoint/sidgoyal/electro_done/random987347.traj\"]\n",
    "dirname = f\"/private/home/mshuaibi/baselines/expts/relaxations/{model}/ml_results/\"\n",
    "\n",
    "for dft_path in paths:\n",
    "    dft_images = ase.io.read(dft_path, \":\")\n",
    "    dft_energies = [image.get_potential_energy(apply_constraint=False) for image in dft_images]\n",
    "    randomid = os.path.basename(dft_path)[:-5]\n",
    "    ml_path = os.path.join(dirname, f\"{randomid}/ml_idx_{randomid}.traj\")\n",
    "    ml_images = ase.io.read(ml_path, \":\")\n",
    "    ml_energies = np.array([image.get_potential_energy(apply_constraint=False) + ref[randomid] for image in ml_images])\n",
    "    random.seed(234562)\n",
    "    mldft_steps = np.array(random.sample(range(len(ml_images)), 15))\n",
    "    ml_steps = np.array(range(len(ml_energies)))\n",
    "\n",
    "    ml_dft_path = os.path.join(dirname, f\"{randomid}/dft_validation/ml_idx_{randomid}\")\n",
    "    \n",
    "    ml_dft_images = []\n",
    "    ml_dft_steps = []\n",
    "    for idx, step in enumerate(os.listdir(ml_dft_path)):\n",
    "        try:\n",
    "            step_path = os.path.join(ml_dft_path, step)\n",
    "            image = ase.io.read(os.path.join(step_path, \"OUTCAR\"))\n",
    "            ml_dft_images.append(image)\n",
    "            ml_dft_steps.append(mldft_steps[idx])\n",
    "        except:\n",
    "            continue\n",
    "\n",
    "    ml_dft_energies= np.array([image.get_potential_energy(apply_constraint=False) for image in ml_dft_images])\n",
    "#     for image in ml_images:\n",
    "#         image.set_cell([0,0,0])\n",
    "#     ase.io.write(\n",
    "#         os.path.join(dirname, f\"{randomid}/ml_{randomid}.gif\"), \n",
    "#         ml_images,\n",
    "#         rotation=\"-75x, 45y, 10z\", \n",
    "#         interval=5\n",
    "#     )\n",
    "    \n",
    "\n",
    "    plt.figure(figsize=(8,8))\n",
    "    plt.plot(range(len(dft_energies)), dft_energies, label=\"DFT images\", color=\"black\")\n",
    "    plt.plot(ml_steps, ml_energies, label=f\"ML images\", color=\"b\")    \n",
    "    plt.scatter(ml_dft_steps, ml_dft_energies, label=\"DFT@ML images\", color=\"r\")\n",
    "    plt.xlabel(\"Step\", fontsize=20)\n",
    "    plt.ylabel(\"Energy, eV\", fontsize=20)\n",
    "    plt.tick_params(axis=\"both\", labelsize=15)\n",
    "    plt.legend(fontsize=20)\n",
    "    plt.title(randomid, fontsize=20)\n",
    "    plt.tight_layout()\n",
    "    plt.savefig(f\"{dirname}/{randomid}_dft@ml.png\")"
   ]
  },
  {
   "cell_type": "code",
   "execution_count": null,
   "metadata": {},
   "outputs": [],
   "source": [
    "ase.io.write(\"dft_987347.traj\", ml_dft_images)"
   ]
  },
  {
   "cell_type": "code",
   "execution_count": null,
   "metadata": {},
   "outputs": [],
   "source": [
    "mlimages = [ml_images[idx] for idx in mldft_steps]\n",
    "ase.io.write(\"ml_987347.traj\", mlimages)"
   ]
  },
  {
   "cell_type": "code",
   "execution_count": null,
   "metadata": {},
   "outputs": [],
   "source": [
    "ml_dft_images[7].cell"
   ]
  },
  {
   "cell_type": "code",
   "execution_count": null,
   "metadata": {},
   "outputs": [],
   "source": [
    "mlimages[7].cell"
   ]
  },
  {
   "cell_type": "code",
   "execution_count": null,
   "metadata": {},
   "outputs": [],
   "source": [
    "ml_images = ase.io.Trajectory(\"/private/home/mshuaibi/baselines/expts/relaxations/ml_results/random987347/ml_idx_0_random987347.traj\")\n",
    "dft_images = ase.io.Trajectory(\"/checkpoint/sidgoyal/electro_done/random987347.traj\")"
   ]
  },
  {
   "cell_type": "code",
   "execution_count": null,
   "metadata": {},
   "outputs": [],
   "source": [
    "ase.io.write(\"ml_987347.gif\", ml_images)\n",
    "ase.io.write(\"dft_987347.gif\", dft_images)"
   ]
  }
 ],
 "metadata": {
  "kernelspec": {
   "display_name": "Python 3",
   "language": "python",
   "name": "python3"
  },
  "language_info": {
   "codemirror_mode": {
    "name": "ipython",
    "version": 3
   },
   "file_extension": ".py",
   "mimetype": "text/x-python",
   "name": "python",
   "nbconvert_exporter": "python",
   "pygments_lexer": "ipython3",
   "version": "3.6.10"
  }
 },
 "nbformat": 4,
 "nbformat_minor": 4
}
