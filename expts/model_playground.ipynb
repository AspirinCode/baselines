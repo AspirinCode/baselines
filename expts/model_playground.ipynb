{
 "cells": [
  {
   "cell_type": "markdown",
   "metadata": {},
   "source": [
    "#### Dataloader "
   ]
  },
  {
   "cell_type": "code",
   "execution_count": 1,
   "metadata": {},
   "outputs": [],
   "source": [
    "import sys\n",
    "import numpy as np\n",
    "import seaborn as sns\n",
    "from matplotlib import pyplot as plt\n",
    "import ase.io\n",
    "import random\n",
    "\n",
    "import torch\n",
    "import argparse\n",
    "from torch.utils.data import DataLoader\n",
    "from tqdm.notebook import tqdm\n",
    "from torch_geometric.data import Batch\n",
    "import os\n",
    "\n",
    "from ocpmodels.datasets import TrajectoryLmdbDataset, data_list_collater\n",
    "from ocpmodels.preprocessing import AtomsToGraphs\n",
    "from ocpmodels.common.utils import get_pbc_distances\n",
    "from pymatgen.io.ase import AseAtomsAdaptor\n",
    "from ase.neighborlist import NeighborList, NewPrimitiveNeighborList, PrimitiveNeighborList\n",
    "import ase.db.sqlite\n",
    "import ase.io.trajectory\n",
    "import numpy as np\n",
    "import torch\n",
    "from pymatgen.io.ase import AseAtomsAdaptor\n",
    "from torch_geometric.data import Data\n",
    "from tqdm.notebook import tqdm\n",
    "import pickle\n",
    "\n",
    "from ocpmodels.common.utils import collate"
   ]
  },
  {
   "cell_type": "code",
   "execution_count": 27,
   "metadata": {},
   "outputs": [],
   "source": [
    "dataset_config = {\n",
    "    \"src\": \"/checkpoint/electrocatalysis/relaxations/features/struct_to_energy_forces/val/is_1M\"\n",
    "}\n",
    "\n",
    "dataset = TrajectoryLmdbDataset(dataset_config)\n",
    "\n",
    "data_loader = DataLoader(\n",
    "    dataset,\n",
    "    batch_size=256,\n",
    "    shuffle=True,\n",
    "    collate_fn=data_list_collater,\n",
    "    num_workers=64,\n",
    ")"
   ]
  },
  {
   "cell_type": "code",
   "execution_count": 28,
   "metadata": {},
   "outputs": [],
   "source": [
    "batch = next(iter(data_loader))"
   ]
  },
  {
   "cell_type": "code",
   "execution_count": 87,
   "metadata": {},
   "outputs": [
    {
     "data": {
      "text/plain": [
       "(256,)"
      ]
     },
     "execution_count": 87,
     "metadata": {},
     "output_type": "execute_result"
    }
   ],
   "source": [
    "batch.y.numpy().shape"
   ]
  },
  {
   "cell_type": "code",
   "execution_count": 31,
   "metadata": {},
   "outputs": [],
   "source": [
    "natoms = batch.natoms.tolist()"
   ]
  },
  {
   "cell_type": "code",
   "execution_count": 96,
   "metadata": {},
   "outputs": [],
   "source": [
    "k = torch.cumsum(batch.natoms, 0)\n",
    "forces = batch.force.cpu().detach().numpy()"
   ]
  },
  {
   "cell_type": "code",
   "execution_count": 101,
   "metadata": {},
   "outputs": [],
   "source": [
    "j = np.split(forces, k[:-1], axis=0)"
   ]
  },
  {
   "cell_type": "code",
   "execution_count": 108,
   "metadata": {},
   "outputs": [
    {
     "data": {
      "text/plain": [
       "124"
      ]
     },
     "execution_count": 108,
     "metadata": {},
     "output_type": "execute_result"
    }
   ],
   "source": [
    "len(j[-1])"
   ]
  },
  {
   "cell_type": "code",
   "execution_count": 76,
   "metadata": {},
   "outputs": [],
   "source": [
    "j = np.split(force, np.cumsum(natoms)[:-1], 0)"
   ]
  },
  {
   "cell_type": "code",
   "execution_count": 82,
   "metadata": {},
   "outputs": [
    {
     "data": {
      "text/plain": [
       "124"
      ]
     },
     "execution_count": 82,
     "metadata": {},
     "output_type": "execute_result"
    }
   ],
   "source": [
    "len(j[-1])"
   ]
  },
  {
   "cell_type": "code",
   "execution_count": 26,
   "metadata": {},
   "outputs": [
    {
     "data": {
      "text/plain": [
       "257"
      ]
     },
     "execution_count": 26,
     "metadata": {},
     "output_type": "execute_result"
    }
   ],
   "source": [
    "len(j)"
   ]
  },
  {
   "cell_type": "code",
   "execution_count": null,
   "metadata": {},
   "outputs": [],
   "source": [
    "def get_neighbors_ase(image, cutoff):\n",
    "    n = NeighborList(cutoffs=[cutoff / 2.0] * len(image),\n",
    "        self_interaction=False, skin=0, bothways=True,\n",
    "        primitive=NewPrimitiveNeighborList\n",
    "    )\n",
    "    n.update(image)\n",
    "    return [n.get_neighbors(index) for index in range(len(image))]\n",
    "\n",
    "edge_len_ase = 0\n",
    "for i in images:\n",
    "    n = get_neighbors_ase(i, 6)\n",
    "    for k in n:\n",
    "        edge_len_ase += len(k[0])   "
   ]
  },
  {
   "cell_type": "code",
   "execution_count": null,
   "metadata": {},
   "outputs": [],
   "source": [
    "edge_len_ase = 0\n",
    "for i in images:\n",
    "    n = get_neighbors_ase(i, 6)\n",
    "    for k in n:\n",
    "        edge_len_ase += len(k[0])   "
   ]
  },
  {
   "cell_type": "code",
   "execution_count": null,
   "metadata": {},
   "outputs": [],
   "source": [
    "edge_len_ase"
   ]
  },
  {
   "cell_type": "code",
   "execution_count": null,
   "metadata": {},
   "outputs": [],
   "source": [
    "print(torch.unique(edge_index, dim = 1).shape)\n",
    "print(edge_index.shape)"
   ]
  },
  {
   "cell_type": "code",
   "execution_count": null,
   "metadata": {},
   "outputs": [],
   "source": [
    "len(images)"
   ]
  },
  {
   "cell_type": "code",
   "execution_count": null,
   "metadata": {},
   "outputs": [],
   "source": [
    "from itertools import permutations, combinations\n",
    "\n",
    "comb = combinations([\"Cu\", \"C\", \"O\", \"H\"], 2) "
   ]
  },
  {
   "cell_type": "code",
   "execution_count": null,
   "metadata": {},
   "outputs": [],
   "source": [
    "for i in comb:\n",
    "    print(i)"
   ]
  },
  {
   "cell_type": "code",
   "execution_count": null,
   "metadata": {},
   "outputs": [],
   "source": [
    "test = ase.io.trajectory.Trajectory(\"/checkpoint/electrocatalysis/relaxations/bulkadsorbate/chunk27/random837409.traj\")[2]"
   ]
  },
  {
   "cell_type": "code",
   "execution_count": null,
   "metadata": {},
   "outputs": [],
   "source": [
    "test.get_forces(apply_constraint=False).mean()"
   ]
  },
  {
   "cell_type": "code",
   "execution_count": null,
   "metadata": {},
   "outputs": [],
   "source": [
    "data = next(iter(data_loader))\n",
    "pos = data.pos"
   ]
  },
  {
   "cell_type": "code",
   "execution_count": null,
   "metadata": {},
   "outputs": [],
   "source": [
    "data.pos.shape[0]"
   ]
  },
  {
   "cell_type": "code",
   "execution_count": null,
   "metadata": {},
   "outputs": [],
   "source": [
    "torch.arange(len(data.edge_index[1]))[(data.edge_index[1] == 0)]"
   ]
  },
  {
   "cell_type": "code",
   "execution_count": null,
   "metadata": {},
   "outputs": [],
   "source": [
    "data.pos.shape[0]"
   ]
  },
  {
   "cell_type": "code",
   "execution_count": null,
   "metadata": {},
   "outputs": [],
   "source": [
    "out = get_pbc_distances(data.pos, data.edge_index, data.cell, data.cell_offsets, data.neighbors, return_offsets=True, max_neigh=10)"
   ]
  },
  {
   "cell_type": "code",
   "execution_count": null,
   "metadata": {},
   "outputs": [],
   "source": [
    "edge_index = out[\"edge_index\"]"
   ]
  },
  {
   "cell_type": "code",
   "execution_count": null,
   "metadata": {},
   "outputs": [],
   "source": [
    "distances = out[\"distances\"]"
   ]
  },
  {
   "cell_type": "code",
   "execution_count": null,
   "metadata": {},
   "outputs": [],
   "source": [
    "distances[:10]"
   ]
  },
  {
   "cell_type": "code",
   "execution_count": null,
   "metadata": {},
   "outputs": [],
   "source": [
    "radius_index.shape"
   ]
  },
  {
   "cell_type": "code",
   "execution_count": null,
   "metadata": {},
   "outputs": [],
   "source": [
    "max_distance = []\n",
    "for data in tqdm(data_loader):\n",
    "    edge_index, edge_weight = get_pbc_distances_fix(data.pos, data.edge_index, data.cell, data.cell_offsets, data.nghbrs)\n",
    "    max_distance.append(edge_weight.max().item())"
   ]
  },
  {
   "cell_type": "code",
   "execution_count": null,
   "metadata": {},
   "outputs": [],
   "source": [
    "sum(torch.tensor(max_distance)>6)"
   ]
  },
  {
   "cell_type": "code",
   "execution_count": null,
   "metadata": {},
   "outputs": [],
   "source": [
    "edge_index, edge_weight = get_pbc_distances(data.pos, data.edge_index, data.cell, data.cell_offsets, data.natoms)"
   ]
  },
  {
   "cell_type": "code",
   "execution_count": null,
   "metadata": {},
   "outputs": [],
   "source": [
    "edge_weight.max().item()"
   ]
  },
  {
   "cell_type": "code",
   "execution_count": null,
   "metadata": {},
   "outputs": [],
   "source": [
    "data = dataset[0]\n",
    "edge_index, edge_weight = get_pbc_distances(\n",
    "    data.pos, \n",
    "    data.edge_index, \n",
    "    data.cell, \n",
    "    data.cell_offsets, \n",
    "    data.natoms\n",
    ")\n",
    "print(edge_weight.max())"
   ]
  },
  {
   "cell_type": "code",
   "execution_count": null,
   "metadata": {},
   "outputs": [],
   "source": [
    "path = \"/private/home/mshuaibi/baselines/expts/embeddings/\"\n",
    "atom_map = torch.stack(torch.load(os.path.join(path, \"cgcnn_embeddings.pt\")))"
   ]
  },
  {
   "cell_type": "code",
   "execution_count": null,
   "metadata": {},
   "outputs": [],
   "source": [
    "z = data.atomic_numbers.long()\n",
    "pos = data.pos\n",
    "row, col = edge_index\n",
    "edge_weight = pos[row] - pos[col]\n",
    "edge_weight = edge_weight.norm(dim=-1)\n",
    "edge_weight.shape\n",
    "pm2ang = 100\n",
    "bond_criteria = torch.abs(edge_weight-(atom_map[z[row]][:, 3] + atom_map[z[col]][:, 3])/pm2ang)\n",
    "bonded_edge = (bond_criteria <= 0.5).nonzero().view(-1)\n",
    "vdw_edge = (bond_criteria > 0.5).nonzero().view(-1)"
   ]
  },
  {
   "cell_type": "code",
   "execution_count": null,
   "metadata": {},
   "outputs": [],
   "source": [
    "edge_index.shape"
   ]
  },
  {
   "cell_type": "code",
   "execution_count": null,
   "metadata": {},
   "outputs": [],
   "source": [
    "vdw_edge.shape"
   ]
  },
  {
   "cell_type": "code",
   "execution_count": null,
   "metadata": {},
   "outputs": [],
   "source": [
    "bond_edge_index = data.edge_index[:, bonded_edge]\n",
    "vdw_edge_index = data.edge_index[:, vdw_edge]"
   ]
  },
  {
   "cell_type": "code",
   "execution_count": null,
   "metadata": {},
   "outputs": [],
   "source": [
    "bond_edge_index.shape"
   ]
  },
  {
   "cell_type": "code",
   "execution_count": null,
   "metadata": {},
   "outputs": [],
   "source": [
    "vdw_edge_index.shape"
   ]
  },
  {
   "cell_type": "code",
   "execution_count": null,
   "metadata": {},
   "outputs": [],
   "source": [
    "edge_idx = data.edge_index\n",
    "row, col = edge_idx\n",
    "pos = data.pos\n",
    "\n",
    "edge_weight = pos[row] - pos[col]\n",
    "edge_weight = edge_weight.norm(dim=-1)\n",
    "edge_weight"
   ]
  },
  {
   "cell_type": "code",
   "execution_count": null,
   "metadata": {},
   "outputs": [],
   "source": [
    "edge_index = data.edge_index\n",
    "row, col = edge_index\n",
    "\n",
    "edge_weight_pbc = pos[row] - pos[col]\n",
    "# correct for pbc\n",
    "cell = torch.repeat_interleave(data.cell, data.natoms * 12, dim=0)\n",
    "cell_offsets = data.cell_offsets\n",
    "offsets = (\n",
    "    cell_offsets.float()\n",
    "    .view(-1, 1, 3)\n",
    "    .bmm(cell.float())\n",
    "    .view(-1, 3)\n",
    ")\n",
    "edge_weight_pbc = -pos[row] + pos[col] + offsets\n",
    "# edge_weight_pbc += offsets\n",
    "# compute distances\n",
    "edge_weight_pbc = edge_weight_pbc.norm(dim=-1)"
   ]
  },
  {
   "cell_type": "code",
   "execution_count": null,
   "metadata": {},
   "outputs": [],
   "source": [
    "data_loader = DataLoader(\n",
    "    dataset,\n",
    "    batch_size=256,\n",
    "    shuffle=False,\n",
    "    collate_fn=data_list_collater,\n",
    "    num_workers=64,\n",
    ")\n",
    "\n",
    "relax = []\n",
    "for batch in data_loader:\n",
    "    free_atom_idx = batch.fixed == 0\n",
    "    relax.append(batch.relax_vector[free_atom_idx])"
   ]
  },
  {
   "cell_type": "code",
   "execution_count": null,
   "metadata": {},
   "outputs": [],
   "source": [
    "relax = torch.cat(relax, 0)"
   ]
  },
  {
   "cell_type": "code",
   "execution_count": null,
   "metadata": {},
   "outputs": [],
   "source": [
    "mean_vector = torch.tensor([f.item() for f in relax.mean(0)])\n",
    "mean_vector"
   ]
  },
  {
   "cell_type": "code",
   "execution_count": null,
   "metadata": {},
   "outputs": [],
   "source": [
    "torch.mean(torch.abs(relax-mean_vector), dim=0)"
   ]
  },
  {
   "cell_type": "code",
   "execution_count": null,
   "metadata": {},
   "outputs": [],
   "source": [
    "energies = torch.cat(energies, 0).view(-1, 1)"
   ]
  },
  {
   "cell_type": "code",
   "execution_count": null,
   "metadata": {},
   "outputs": [],
   "source": [
    "pos = data.pos\n",
    "edge_index = data.edge_index\n",
    "row, col = edge_index\n",
    "edge_weight = pos[row] - pos[col]\n",
    "\n",
    "cell = torch.repeat_interleave(data.cell, data.natoms * 12, dim=0)\n",
    "cell_offsets=data.cell_offsets\n",
    "offsets = (\n",
    "cell_offsets.float().view(-1,1,3).bmm(cell.float()).view(-1, 3))\n",
    "edge_weight += offsets"
   ]
  },
  {
   "cell_type": "code",
   "execution_count": null,
   "metadata": {},
   "outputs": [],
   "source": [
    "bulk_mask = (data.tags == 0).nonzero()\n",
    "surface_mask = (data.tags == 1).nonzero()\n",
    "ads_mask = (data.tags == 2).nonzero()"
   ]
  },
  {
   "cell_type": "code",
   "execution_count": null,
   "metadata": {},
   "outputs": [],
   "source": [
    "tag_coeff = [1, 1, 1]\n",
    "bulk_loss = tag_coeff[0] * torch.mean(data.force[bulk_mask]) * 3 *bulk_mask.size(0)\n",
    "surface_loss = tag_coeff[2] * torch.mean(data.force[surface_mask]) * 3 *surface_mask.size(0)\n",
    "ads_loss = tag_coeff[2] * torch.mean(data.force[ads_mask]) * 3 *ads_mask.size(0)\n",
    "weighted_force_loss = (bulk_loss + surface_loss + ads_loss)/(3*data.tags.size(0))"
   ]
  },
  {
   "cell_type": "code",
   "execution_count": null,
   "metadata": {},
   "outputs": [],
   "source": [
    "energies, forces = [], []\n",
    "\n",
    "for i, batch in tqdm(enumerate(data_loader)):\n",
    "    energies.append(batch.y)\n",
    "#     free_atom_idx = batch.fixed ==0\n",
    "#     forces.append(batch.force[free_atom_idx])\n",
    "    forces.append(batch.force)"
   ]
  },
  {
   "cell_type": "code",
   "execution_count": 16,
   "metadata": {},
   "outputs": [],
   "source": [
    "images = ase.io.read(\"/checkpoint/sidgoyal/electro_done/random1255319.traj\", \":\")\n",
    "energies = [image.get_potential_energy() for image in images]"
   ]
  },
  {
   "cell_type": "code",
   "execution_count": 22,
   "metadata": {},
   "outputs": [
    {
     "data": {
      "text/plain": [
       "{'kpoints_generation': {'divisions': array([3, 3, 1]),\n",
       "  'usershift': array([0., 0., 0.]),\n",
       "  'genvec1': array([0.33333333, 0.        , 0.        ]),\n",
       "  'genvec2': array([0.        , 0.33333333, 0.        ]),\n",
       "  'genvec3': array([ 0., -0.,  1.]),\n",
       "  'shift': array([0., 0., 0.])},\n",
       " 'system': 'unknown system',\n",
       " 'lcompat': False,\n",
       " 'prec': 'normal',\n",
       " 'enmax': 350.0,\n",
       " 'enaug': 644.873,\n",
       " 'ediff': 0.0001,\n",
       " 'ialgo': 38,\n",
       " 'iwavpr': 11,\n",
       " 'nbands': 486,\n",
       " 'nelect': 805.0,\n",
       " 'turbo': 0,\n",
       " 'irestart': 0,\n",
       " 'nreboot': 0,\n",
       " 'nmin': 0,\n",
       " 'eref': 0.0,\n",
       " 'ismear': 1,\n",
       " 'sigma': 0.2,\n",
       " 'kspacing': 0.5,\n",
       " 'kgamma': True,\n",
       " 'lreal': True,\n",
       " 'ropt': array([-0.0005, -0.0005, -0.0005, -0.0005, -0.0005]),\n",
       " 'lmaxpaw': -100,\n",
       " 'lmaxmix': 2,\n",
       " 'nlspline': False,\n",
       " 'istart': 0,\n",
       " 'icharg': 2,\n",
       " 'iniwav': 1,\n",
       " 'ispin': 1,\n",
       " 'lnoncollinear': False,\n",
       " 'magmom': array([1., 1., 1., 1., 1., 1., 1., 1., 1., 1., 1., 1., 1., 1., 1., 1., 1.,\n",
       "        1., 1., 1., 1., 1., 1., 1., 1., 1., 1., 1., 1., 1., 1., 1., 1., 1.,\n",
       "        1., 1., 1., 1., 1., 1., 1., 1., 1., 1., 1., 1., 1., 1., 1., 1., 1.,\n",
       "        1., 1., 1., 1., 1., 1., 1., 1., 1., 1., 1., 1., 1., 1., 1., 1., 1.,\n",
       "        1., 1., 1., 1., 1., 1., 1., 1., 1., 1., 1., 1., 1., 1., 1., 1., 1.,\n",
       "        1., 1., 1., 1., 1., 1., 1., 1., 1., 1., 1., 1., 1., 1., 1., 1., 1.,\n",
       "        1., 1., 1., 1., 1., 1., 1., 1., 1., 1., 1., 1., 1.]),\n",
       " 'nupdown': -1.0,\n",
       " 'lsorbit': False,\n",
       " 'saxis': array([0., 0., 1.]),\n",
       " 'lspiral': False,\n",
       " 'qspiral': array([0., 0., 0.]),\n",
       " 'lzeroz': False,\n",
       " 'lasph': False,\n",
       " 'lmetagga': False,\n",
       " 'nelm': 1,\n",
       " 'nelmdl': -5,\n",
       " 'nelmin': 2,\n",
       " 'enini': 350.0,\n",
       " 'ldiag': True,\n",
       " 'lsubrot': False,\n",
       " 'weimin': 0.001,\n",
       " 'ebreak': 5e-08,\n",
       " 'deper': 0.3,\n",
       " 'nrmm': 4,\n",
       " 'time': 0.4,\n",
       " 'amix': 0.4,\n",
       " 'bmix': 1.0,\n",
       " 'amin': 0.1,\n",
       " 'amix_mag': 1.6,\n",
       " 'bmix_mag': 1.0,\n",
       " 'imix': 4,\n",
       " 'mixfirst': False,\n",
       " 'maxmix': -45,\n",
       " 'wc': 100.0,\n",
       " 'inimix': 1,\n",
       " 'mixpre': 1,\n",
       " 'mremove': 5,\n",
       " 'ldipol': False,\n",
       " 'lmono': False,\n",
       " 'idipol': 0,\n",
       " 'epsilon': 1.0,\n",
       " 'dipol': array([-100., -100., -100.]),\n",
       " 'efield': 0.0,\n",
       " 'ngx': 70,\n",
       " 'ngy': 70,\n",
       " 'ngz': 250,\n",
       " 'ngxf': 140,\n",
       " 'ngyf': 140,\n",
       " 'ngzf': 500,\n",
       " 'addgrid': False,\n",
       " 'nsw': 200,\n",
       " 'ibrion': 2,\n",
       " 'mdalgo': 0,\n",
       " 'isif': 0,\n",
       " 'pstress': 0.0,\n",
       " 'ediffg': -0.03,\n",
       " 'nfree': 1,\n",
       " 'potim': 0.5,\n",
       " 'smass': -3.0,\n",
       " 'scalee': 1.0,\n",
       " 'tebeg': 0.0001,\n",
       " 'teend': 0.0001,\n",
       " 'nblock': 1,\n",
       " 'kblock': 200,\n",
       " 'npaco': 256,\n",
       " 'apaco': 16.0,\n",
       " 'isym': 0,\n",
       " 'symprec': 0.0,\n",
       " 'lorbit': 0,\n",
       " 'rwigs': array([-1., -1., -1., -1., -1.]),\n",
       " 'nedos': 301,\n",
       " 'emin': 10.0,\n",
       " 'emax': -10.0,\n",
       " 'efermi': 0.0,\n",
       " 'nwrite': 2,\n",
       " 'lwave': False,\n",
       " 'ldownsample': False,\n",
       " 'lcharg': True,\n",
       " 'lpard': False,\n",
       " 'lvtot': False,\n",
       " 'lvhar': False,\n",
       " 'lelf': False,\n",
       " 'loptics': False,\n",
       " 'stm': array([0., 0., 0., 0., 0., 0., 0.]),\n",
       " 'npar': 6,\n",
       " 'nsim': 4,\n",
       " 'nblk': -1,\n",
       " 'lplane': True,\n",
       " 'lscalapack': False,\n",
       " 'lscaaware': False,\n",
       " 'lscalu': False,\n",
       " 'lasync': False,\n",
       " 'lorbitalreal': False,\n",
       " 'idiot': 3,\n",
       " 'ispecial': 0,\n",
       " 'lmusic': False,\n",
       " 'pomass': array([ 35.453,  39.098, 195.08 ,  12.011,   1.   ]),\n",
       " 'darwinr': array([0., 0., 0., 0., 0.]),\n",
       " 'darwinv': array([1., 1., 1., 1., 1.]),\n",
       " 'lcorr': True,\n",
       " 'gga_compat': True,\n",
       " 'lberry': False,\n",
       " 'icorelevel': 0,\n",
       " 'ldau': False,\n",
       " 'i_constrained_m': 0,\n",
       " 'gga': 'RP',\n",
       " 'voskown': 0,\n",
       " 'lhfcalc': False,\n",
       " 'precfock': '',\n",
       " 'lsymgrad': False,\n",
       " 'lhfone': False,\n",
       " 'lrhfcalc': False,\n",
       " 'lthomas': False,\n",
       " 'lmodelhf': False,\n",
       " 'encut4o': -1.0,\n",
       " 'exxoep': 0,\n",
       " 'fourorbit': 0,\n",
       " 'aexx': 0.0,\n",
       " 'hfalpha': 0.0,\n",
       " 'mcalpha': 0.0,\n",
       " 'aldax': 1.0,\n",
       " 'aggax': 1.0,\n",
       " 'aldac': 1.0,\n",
       " 'aggac': 1.0,\n",
       " 'nkredx': 1,\n",
       " 'nkredy': 1,\n",
       " 'nkredz': 1,\n",
       " 'shiftred': False,\n",
       " 'oddonly': False,\n",
       " 'evenonly': False,\n",
       " 'lmaxfock': 0,\n",
       " 'nmaxfockae': 0,\n",
       " 'lfockaedft': False,\n",
       " 'hfscreen': 0.0,\n",
       " 'hfscreenc': 0.0,\n",
       " 'nbandsgwlow': 0,\n",
       " 'luse_vdw': False,\n",
       " 'zab_vdw': -0.8491,\n",
       " 'param1': 0.1234,\n",
       " 'param2': 1.0,\n",
       " 'param3': 0.0,\n",
       " 'model_gw': 0,\n",
       " 'model_eps0': 48.93012607,\n",
       " 'model_alpha': 1.0,\n",
       " 'lepsilon': False,\n",
       " 'lrpa': False,\n",
       " 'lnabla': False,\n",
       " 'lvel': False,\n",
       " 'kinter': 0,\n",
       " 'cshift': -0.1,\n",
       " 'omegamax': -30.0,\n",
       " 'deg_threshold': 0.002,\n",
       " 'rtime': -0.1,\n",
       " 'wplasmai': 0.0,\n",
       " 'dfield': array([0., 0., 0.]),\n",
       " 'wplasma': array([0., 0., 0., 0., 0., 0., 0., 0., 0.]),\n",
       " 'nucind': False,\n",
       " 'magpos': array([0., 0., 0.]),\n",
       " 'lnicsall': True,\n",
       " 'orbitalmag': False,\n",
       " 'lmagbloch': False,\n",
       " 'lchimag': False,\n",
       " 'lgauge': True,\n",
       " 'magatom': 0,\n",
       " 'magdipol': array([0., 0., 0.]),\n",
       " 'avecconst': array([0., 0., 0.]),\n",
       " 'ladder': False,\n",
       " 'lrpaforce': False,\n",
       " 'lfxc': False,\n",
       " 'lhartree': True,\n",
       " 'ibse': 0,\n",
       " 'kpoint': array([-1,  0,  0,  0]),\n",
       " 'ltcte': False,\n",
       " 'ltete': False,\n",
       " 'ltriplet': False,\n",
       " 'lfxceps': False,\n",
       " 'lfxheg': False,\n",
       " 'naturalo': 2,\n",
       " 'l2order': False,\n",
       " 'lmp2lt': False,\n",
       " 'lusew': False,\n",
       " 'encutgw': -2.0,\n",
       " 'encutgwsoft': -2.0,\n",
       " 'encutlf': -1.0,\n",
       " 'lmaxmp2': -1,\n",
       " 'scissor': 0.0,\n",
       " 'nomega': 0,\n",
       " 'nomegar': 0,\n",
       " 'nbandsgw': -1,\n",
       " 'nbandso': -1,\n",
       " 'nbandsv': -1,\n",
       " 'nelmhf': 1,\n",
       " 'dim': 3,\n",
       " 'antires': 0,\n",
       " 'omegamin': -30.0,\n",
       " 'omegatl': -200.0,\n",
       " 'omegagrid': 140,\n",
       " 'selfenergy': False,\n",
       " 'lspectral': False,\n",
       " 'lspectralgw': False,\n",
       " 'lsingles': False,\n",
       " 'lfermigw': False,\n",
       " 'oddonlygw': False,\n",
       " 'evenonlygw': False,\n",
       " 'nkredlfx': 1,\n",
       " 'nkredlfy': 1,\n",
       " 'nkredlfz': 1,\n",
       " 'maxmem': 2800,\n",
       " 'telescope': 0,\n",
       " 'taupar': 1,\n",
       " 'omegapar': -1,\n",
       " 'lambda': 1.0,\n",
       " 'ofield_kappa': 0.0,\n",
       " 'ofield_k': array([0., 0., 0.]),\n",
       " 'ofield_q6_near': 0.0,\n",
       " 'ofield_q6_far': 0.0,\n",
       " 'ofield_a': 0.0,\n",
       " 'lsol': False}"
      ]
     },
     "execution_count": 22,
     "metadata": {},
     "output_type": "execute_result"
    }
   ],
   "source": [
    "images[0].get_calculator().parameters"
   ]
  },
  {
   "cell_type": "code",
   "execution_count": null,
   "metadata": {},
   "outputs": [],
   "source": [
    "idx = 0\n",
    "length = len(images[0])\n",
    "pos_vectors = torch.zeros(5, length, 3)\n",
    "for j, i in enumerate(range(idx, idx-10, -1)):\n",
    "    try:\n",
    "        assert i >= 1\n",
    "        current_pos = images[i].positions\n",
    "        previous_pos = images[i-1].positions\n",
    "        pos_vectors[j] = current_pos - previous_pos\n",
    "    except:\n",
    "        break"
   ]
  },
  {
   "cell_type": "code",
   "execution_count": null,
   "metadata": {},
   "outputs": [],
   "source": [
    "plt.plot(range(len(energies)), energies)\n",
    "plt.xlabel(\"step\")\n",
    "plt.ylabel(\"energy\")\n",
    "plt.title(\"random1255319\")"
   ]
  },
  {
   "cell_type": "code",
   "execution_count": null,
   "metadata": {},
   "outputs": [],
   "source": [
    "import ase.io\n",
    "import os\n",
    "from matplotlib import pyplot as plt\n",
    "import pickle\n",
    "from tqdm.notebook import tqdm\n",
    "import multiprocessing as mp\n",
    "from ase.visualize import view"
   ]
  },
  {
   "cell_type": "code",
   "execution_count": null,
   "metadata": {},
   "outputs": [],
   "source": [
    "k = open(\"/private/home/mshuaibi/ocp-modeling/utils/val_sample.txt\", \"r\")\n",
    "traj_paths = k.read().splitlines()\n",
    "k = open(\"/checkpoint/mshuaibi/mappings/adslab_ref_energies_ocp728k.pkl\", \"rb\")\n",
    "ref = pickle.load(k)\n",
    "ml_dir = \"/private/home/mshuaibi/baselines/expts/relaxations/ml_results/\""
   ]
  },
  {
   "cell_type": "code",
   "execution_count": null,
   "metadata": {},
   "outputs": [],
   "source": [
    "j = open(\"/checkpoint/mshuaibi/mappings/sysid_to_bulkads_dir.pkl\", \"rb\")\n",
    "bulkads_dir = pickle.load(j)\n",
    "randomids = list(bulkads_dir)"
   ]
  },
  {
   "cell_type": "code",
   "execution_count": null,
   "metadata": {},
   "outputs": [],
   "source": [
    "k = open(\"/checkpoint/mshuaibi/mappings/sysid_to_metadata.pkl\", \"wb\")"
   ]
  },
  {
   "cell_type": "code",
   "execution_count": null,
   "metadata": {},
   "outputs": [],
   "source": [
    "def get_meta(randomid):\n",
    "    try:\n",
    "        path = bulkads_dir[randomid]\n",
    "        t = open(os.path.join(path, \"metadata.pkl\"), \"rb\")\n",
    "        metadata = pickle.load(t)\n",
    "        return (randomid, metadata[\"adsorbed_bulk_metadata\"])\n",
    "    except:\n",
    "        pass"
   ]
  },
  {
   "cell_type": "code",
   "execution_count": null,
   "metadata": {},
   "outputs": [],
   "source": [
    "metadata_mappings = {}"
   ]
  },
  {
   "cell_type": "code",
   "execution_count": null,
   "metadata": {},
   "outputs": [],
   "source": [
    "pool = mp.Pool(80)\n",
    "metadata = list(tqdm(pool.imap(get_meta, randomids), total=len(randomids)))"
   ]
  },
  {
   "cell_type": "code",
   "execution_count": null,
   "metadata": {},
   "outputs": [],
   "source": [
    "for i in metadata:\n",
    "    try:\n",
    "        metadata_mappings[i[0]] = i[1]\n",
    "    except:\n",
    "        continue"
   ]
  },
  {
   "cell_type": "code",
   "execution_count": null,
   "metadata": {},
   "outputs": [],
   "source": [
    "pickle.dump(metadata_mappings, k)"
   ]
  },
  {
   "cell_type": "code",
   "execution_count": null,
   "metadata": {},
   "outputs": [],
   "source": [
    "# for i in traj_paths:\n",
    "i = traj_paths[6]\n",
    "print(i)\n",
    "randomid = os.path.basename(i)[:-5]\n",
    "dft_images = ase.io.read(i, \":\")\n",
    "dft_energies = [image.get_potential_energy(apply_constraint=False) for image in dft_images]\n",
    "\n",
    "systemdir = os.path.join(ml_dir, randomid)\n",
    "ml_images = ase.io.read(systemdir+f\"/ml_idx_0_{randomid}.traj\", \":\")\n",
    "ml_energies = [image.get_potential_energy(apply_constraint=False) + ref[randomid] for image in ml_images]\n",
    "\n",
    "plt.plot(range(len(dft_energies)), dft_energies, label=\"DFT\")\n",
    "plt.plot(range(len(ml_energies)), ml_energies, label=\"ML\")\n",
    "plt.xlabel(\"Relaxation step\")\n",
    "plt.ylabel(\"Energy, eV\")\n",
    "plt.legend()"
   ]
  },
  {
   "cell_type": "code",
   "execution_count": null,
   "metadata": {},
   "outputs": [],
   "source": [
    "dft_relax = dft_images[-1]\n",
    "fixed = dft_relax.constraints[0].index\n",
    "idxs = range(len(dft_relax))\n",
    "free = [i for i in idxs if i not in fixed]\n",
    "dft_relaxed_pos = dft_relax.positions[free]\n",
    "ml_relaxed_pos = ml_images[-1].positions[free]\n",
    "\n",
    "np.mean(np.abs(dft_relaxed_pos - ml_relaxed_pos))"
   ]
  },
  {
   "cell_type": "code",
   "execution_count": null,
   "metadata": {},
   "outputs": [],
   "source": [
    "np.mean(np.abs(dft_images[0].positions[free]-dft_relaxed_pos))"
   ]
  },
  {
   "cell_type": "code",
   "execution_count": null,
   "metadata": {},
   "outputs": [],
   "source": [
    "k = open(\"/checkpoint/mshuaibi/mappings/sysid_to_bulk_adsorbate_idx.pkl\", \"rb\")\n",
    "admaps = pickle.load(k)\n",
    "j = open(\"/checkpoint/mshuaibi/ocpdata_reset_07_13_20/ocpdata_train_CO.txt\", \"a\")\n",
    "n = open(\"/checkpoint/mshuaibi/ocpdata_reset_07_13_20/ocpdata_val_CO.txt\", \"a\")\n",
    "l = open(\"/checkpoint/mshuaibi/ocpdata_reset_07_13_20/ocpdata_train628k_raw.txt\", \"r\")\n",
    "m = open(\"/checkpoint/mshuaibi/ocpdata_reset_07_13_20/ocpdata_val50k_raw.txt\", \"r\")\n",
    "train_paths = l.read().splitlines()\n",
    "val_paths = m.read().splitlines()"
   ]
  },
  {
   "cell_type": "code",
   "execution_count": null,
   "metadata": {},
   "outputs": [],
   "source": [
    "count = 0\n",
    "co_paths = []\n",
    "oh_paths = []\n",
    "nh_paths = []\n",
    "n_large_paths = []\n",
    "large_ads_paths = []\n",
    "single_alloy_paths = []\n",
    "ternary_paths = []\n",
    "for path in tqdm(train_paths):\n",
    "    try:\n",
    "        randomid = os.path.basename(path)[:-5]\n",
    "        if admaps[randomid][\"ads\"] == 5:\n",
    "            co_paths.append(path)\n",
    "        elif admaps[randomid][\"ads\"] == 2:\n",
    "            oh_paths.append(path)\n",
    "        elif admaps[randomid][\"ads\"] == 72:\n",
    "            nh_paths.append(path)\n",
    "        elif admaps[randomid][\"ads\"] == 58:\n",
    "            n_large_paths.append(path)\n",
    "        elif admaps[randomid][\"ads\"] == 56:\n",
    "            large_ads_paths.append(path)\n",
    "        elif admaps[randomid][\"bulk\"] == 22:\n",
    "            single_alloy_paths.append(path)\n",
    "        elif admaps[randomid][\"bulk\"] == 27:\n",
    "            single_alloy_paths.append(path)\n",
    "        elif admaps[randomid][\"bulk\"] < 100:\n",
    "            single_alloy_paths.append(path)\n",
    "        elif admaps[randomid][\"bulk\"] >11470:\n",
    "            ternary_paths.append(path)\n",
    "    except:\n",
    "        continue"
   ]
  },
  {
   "cell_type": "code",
   "execution_count": null,
   "metadata": {},
   "outputs": [],
   "source": [
    "os.makedirs(\"traj4landing_page\", exist_ok=True)"
   ]
  },
  {
   "cell_type": "code",
   "execution_count": null,
   "metadata": {},
   "outputs": [],
   "source": [
    "idx = random.sample(ternary_paths, 1)[0]\n",
    "\n",
    "randomid = os.path.basename(idx)\n",
    "images = ase.io.read(idx, \":\")\n",
    "print(len(images))\n",
    "ase.io.write(\"./traj4landing_page/ternary.png\", images[0], rotation = \"-75x, 45y, 10z\")"
   ]
  },
  {
   "cell_type": "markdown",
   "metadata": {},
   "source": [
    "#### Filter insights"
   ]
  },
  {
   "cell_type": "code",
   "execution_count": null,
   "metadata": {},
   "outputs": [],
   "source": [
    "import ase.io\n",
    "from ocpmodels.preprocessing import AtomsToGraphs\n",
    "from matplotlib import pyplot as plt\n",
    "from torch.utils.data import DataLoader\n",
    "import seaborn as sns\n",
    "from tqdm.notebook import tqdm\n",
    "import torch\n",
    "import numpy as np\n",
    "\n",
    "from ocpmodels.datasets import TrajectoryLmdbDataset, data_list_collater"
   ]
  },
  {
   "cell_type": "code",
   "execution_count": null,
   "metadata": {},
   "outputs": [],
   "source": [
    "dataset_config = {\n",
    "    \"src\": \"/checkpoint/electrocatalysis/relaxations/features/struct_to_energy_forces/train/200k\"\n",
    "}\n",
    "\n",
    "import time\n",
    "t = time.time()\n",
    "dataset = TrajectoryLmdbDatasetprofile(dataset_config)\n",
    "print(time.time()-t)"
   ]
  },
  {
   "cell_type": "code",
   "execution_count": null,
   "metadata": {},
   "outputs": [],
   "source": [
    "len(dataset)"
   ]
  },
  {
   "cell_type": "code",
   "execution_count": null,
   "metadata": {},
   "outputs": [],
   "source": [
    "dataset = dataset[:1000]"
   ]
  },
  {
   "cell_type": "code",
   "execution_count": null,
   "metadata": {},
   "outputs": [],
   "source": [
    "data_loader = DataLoader(\n",
    "    dataset,\n",
    "    batch_size=512,\n",
    "    shuffle=True,\n",
    "    collate_fn=data_list_collater,\n",
    "    num_workers=64,\n",
    ")"
   ]
  },
  {
   "cell_type": "code",
   "execution_count": null,
   "metadata": {},
   "outputs": [],
   "source": [
    "energies = []\n",
    "forces = []\n",
    "\n",
    "i = 0\n",
    "for batch in tqdm(data_loader):\n",
    "    energies.append(batch.y)\n",
    "    forces.append(batch.force)\n",
    "    i += 1\n",
    "    if i >= 10000:\n",
    "        break"
   ]
  },
  {
   "cell_type": "code",
   "execution_count": null,
   "metadata": {},
   "outputs": [],
   "source": [
    "energies = energies.numpy()"
   ]
  },
  {
   "cell_type": "code",
   "execution_count": null,
   "metadata": {},
   "outputs": [],
   "source": [
    "energies.mean()"
   ]
  },
  {
   "cell_type": "code",
   "execution_count": null,
   "metadata": {},
   "outputs": [],
   "source": [
    "energies.stdev()"
   ]
  },
  {
   "cell_type": "code",
   "execution_count": null,
   "metadata": {},
   "outputs": [],
   "source": [
    "forces = torch.cat(forces,0)"
   ]
  },
  {
   "cell_type": "code",
   "execution_count": null,
   "metadata": {},
   "outputs": [],
   "source": [
    "forces.shape"
   ]
  },
  {
   "cell_type": "code",
   "execution_count": null,
   "metadata": {},
   "outputs": [],
   "source": [
    "import seaborn as sns\n",
    "\n",
    "sns.distplot(energies)"
   ]
  },
  {
   "cell_type": "code",
   "execution_count": null,
   "metadata": {},
   "outputs": [],
   "source": [
    "max_displacement = []\n",
    "mean_displacement = []"
   ]
  },
  {
   "cell_type": "code",
   "execution_count": null,
   "metadata": {},
   "outputs": [],
   "source": [
    "count = 0\n",
    "for data in tqdm(dataset):\n",
    "    free = (data.tags != 0).nonzero().flatten()\n",
    "    mean_displacement.append(data.relax_vector[free].abs().norm(dim=-1).mean().item())\n",
    "    max_displacement.append(data.relax_vector[free].abs().norm(dim=-1).max().item())\n",
    "    count += 1\n",
    "    if count >= 1000000:\n",
    "        break"
   ]
  },
  {
   "cell_type": "code",
   "execution_count": null,
   "metadata": {},
   "outputs": [],
   "source": [
    "plt.figure(figsize=(8,8))\n",
    "sns.distplot(max_displacement)\n",
    "plt.xlabel(\"Max atom displacement from initial, $\\AA$\", fontsize=25)\n",
    "plt.ylabel(\"Distribution\", fontsize=25)\n",
    "plt.tick_params(labelsize=25)\n",
    "plt.show()"
   ]
  },
  {
   "cell_type": "code",
   "execution_count": null,
   "metadata": {},
   "outputs": [],
   "source": [
    "max_displacement = np.array(max_displacement)\n",
    "mean_displacement = np.array(mean_displacement)"
   ]
  },
  {
   "cell_type": "code",
   "execution_count": null,
   "metadata": {},
   "outputs": [],
   "source": [
    "(max_displacement>40).nonzero()"
   ]
  },
  {
   "cell_type": "code",
   "execution_count": null,
   "metadata": {},
   "outputs": [],
   "source": [
    "ase.io.write(\"test1.traj\", ase.io.read(traj_paths[24413], \":\"))"
   ]
  },
  {
   "cell_type": "code",
   "execution_count": null,
   "metadata": {},
   "outputs": [],
   "source": [
    "t= ase.io.read(traj_paths[53365], \"0\")"
   ]
  },
  {
   "cell_type": "code",
   "execution_count": null,
   "metadata": {},
   "outputs": [],
   "source": [
    "t.cell"
   ]
  },
  {
   "cell_type": "code",
   "execution_count": null,
   "metadata": {
    "scrolled": false
   },
   "outputs": [],
   "source": [
    "t = ase.io.read(traj_paths[24413], \"32\")\n",
    "\n",
    "t.get_masses()"
   ]
  },
  {
   "cell_type": "code",
   "execution_count": null,
   "metadata": {},
   "outputs": [],
   "source": [
    "t.get_atomic_numbers()"
   ]
  },
  {
   "cell_type": "code",
   "execution_count": null,
   "metadata": {},
   "outputs": [],
   "source": [
    "ase.io.write(\"test2.traj\", ase.io.read(traj_paths[53350], \":\"))"
   ]
  },
  {
   "cell_type": "code",
   "execution_count": null,
   "metadata": {},
   "outputs": [],
   "source": [
    "max_tol = [5, 10, 15, 20, 30, 50]\n",
    "\n",
    "for i in max_tol:\n",
    "    count = (max_displacement>i).nonzero()[0]\n",
    "    p = len(count)/len(max_displacement)\n",
    "    print(i, p)"
   ]
  },
  {
   "cell_type": "code",
   "execution_count": null,
   "metadata": {},
   "outputs": [],
   "source": [
    "plt.figure(figsize=(8,8))\n",
    "sns.distplot(mean_displacement)\n",
    "plt.xlabel(\"Average atom displacement from initial, $\\AA$\", fontsize=25)\n",
    "plt.ylabel(\"Distribution\", fontsize=25)\n",
    "plt.tick_params(labelsize=25)\n",
    "plt.show"
   ]
  },
  {
   "cell_type": "code",
   "execution_count": 1,
   "metadata": {},
   "outputs": [],
   "source": [
    "import argparse\n",
    "import multiprocessing as mp\n",
    "import os\n",
    "import pickle\n",
    "import random\n",
    "\n",
    "from tqdm import tqdm\n",
    "\n",
    "import ase.io\n",
    "import lmdb\n",
    "import torch\n",
    "from ase import Atoms\n",
    "from ocpmodels.preprocessing import AtomsToGraphs\n",
    "from ocpmodels.datasets import data_list_collater, SinglePointLmdbDataset\n",
    "import copy"
   ]
  },
  {
   "cell_type": "code",
   "execution_count": 2,
   "metadata": {},
   "outputs": [],
   "source": [
    "db_path = \"/private/home/mshuaibi/baselines/ocpmodels/common/efficient_validation/water_pair/data_relax.lmdb\"\n",
    "images = ase.io.read(\"/private/home/mshuaibi/baselines/ocpmodels/common/efficient_validation/water_relax.traj\", \":\")"
   ]
  },
  {
   "cell_type": "code",
   "execution_count": 10,
   "metadata": {},
   "outputs": [],
   "source": [
    "db = lmdb.open(\n",
    "    db_path,\n",
    "    map_size=1099511627776 * 2,\n",
    "    subdir=False,\n",
    "    meminit=False,\n",
    "    map_async=True,\n",
    ")"
   ]
  },
  {
   "cell_type": "code",
   "execution_count": 4,
   "metadata": {},
   "outputs": [],
   "source": [
    "a2g = AtomsToGraphs(\n",
    "    max_neigh=50,\n",
    "    radius=6,\n",
    "    r_energy=True,\n",
    "    r_forces=True,\n",
    "    r_distances=False,\n",
    "    r_fixed=True,\n",
    ")\n",
    "dl = a2g.convert_all(images, disable_tqdm=True)"
   ]
  },
  {
   "cell_type": "code",
   "execution_count": 5,
   "metadata": {},
   "outputs": [
    {
     "data": {
      "text/plain": [
       "Data(atomic_numbers=[3], cell=[1, 3, 3], cell_offsets=[6, 3], edge_index=[2, 6], fixed=[3], force=[3, 3], natoms=3, pos=[3, 3], y=2.7696319984994133)"
      ]
     },
     "execution_count": 5,
     "metadata": {},
     "output_type": "execute_result"
    }
   ],
   "source": [
    "d = dl[0]\n",
    "d"
   ]
  },
  {
   "cell_type": "code",
   "execution_count": 6,
   "metadata": {},
   "outputs": [],
   "source": [
    "d.pos_relaxed = dl[-1].pos\n",
    "d.y_relaxed = dl[-1].y\n",
    "j = copy.deepcopy(d)\n",
    "j.test = 3434"
   ]
  },
  {
   "cell_type": "code",
   "execution_count": 11,
   "metadata": {},
   "outputs": [],
   "source": [
    "for i, j in enumerate(range(2)):\n",
    "    txn = db.begin(write=True)\n",
    "    txn.put(\n",
    "        f\"{i}\".encode(\"ascii\"), pickle.dumps(d, protocol=-1)\n",
    "    )\n",
    "    txn.commit()\n",
    "db.sync()\n",
    "db.close()"
   ]
  },
  {
   "cell_type": "code",
   "execution_count": 13,
   "metadata": {},
   "outputs": [],
   "source": [
    "data1 = SinglePointLmdbDataset(dict(src=\"/private/home/mshuaibi/baselines/ocpmodels/common/efficient_validation/water_pair/data_relax.lmdb\"))"
   ]
  },
  {
   "cell_type": "code",
   "execution_count": 15,
   "metadata": {},
   "outputs": [
    {
     "data": {
      "text/plain": [
       "2"
      ]
     },
     "execution_count": 15,
     "metadata": {},
     "output_type": "execute_result"
    }
   ],
   "source": [
    "len(data1)"
   ]
  },
  {
   "cell_type": "code",
   "execution_count": null,
   "metadata": {},
   "outputs": [],
   "source": [
    "for do in dl:\n",
    "    txn = db.begin(write=True)\n",
    "    txn.put(\n",
    "        f\"{0}\".encode(\"ascii\"), pickle.dumps(do, protocol=-1)\n",
    "    )\n",
    "    txn.commit()\n",
    "db.sync()\n",
    "db.close()"
   ]
  },
  {
   "cell_type": "code",
   "execution_count": null,
   "metadata": {},
   "outputs": [],
   "source": [
    "paths = [\n",
    "\"/checkpoint/electrocatalysis/relaxations/bulkadsorbate/chunk15/random225049.traj\",\n",
    "\"/checkpoint/electrocatalysis/relaxations/bulkadsorbate/chunk16/random388359.traj\",\n",
    "\"/checkpoint/electrocatalysis/relaxations/bulkadsorbate/chunk6/random139141.traj\",\n",
    "\"/checkpoint/electrocatalysis/relaxations/bulkadsorbate/chunk18/random496361.traj\",\n",
    "\"/checkpoint/electrocatalysis/relaxations/bulkadsorbate/chunk16/random380929.traj\",\n",
    "\"/checkpoint/electrocatalysis/relaxations/bulkadsorbate/chunk15/random211416.traj\",\n",
    "\"/checkpoint/electrocatalysis/relaxations/bulkadsorbate/chunk62/random2032440.traj\",\n",
    "\"/checkpoint/electrocatalysis/relaxations/bulkadsorbate/chunk8/random1470615.traj\",\n",
    "\"/checkpoint/electrocatalysis/relaxations/bulkadsorbate/chunk41/random1877054.traj\",\n",
    "\"/checkpoint/electrocatalysis/relaxations/bulkadsorbate/chunk15/random348419.traj\",\n",
    "\"/checkpoint/electrocatalysis/relaxations/bulkadsorbate/chunk4/random1336791.traj\",\n",
    "]"
   ]
  },
  {
   "cell_type": "code",
   "execution_count": null,
   "metadata": {},
   "outputs": [],
   "source": [
    "import os"
   ]
  },
  {
   "cell_type": "code",
   "execution_count": null,
   "metadata": {},
   "outputs": [],
   "source": [
    "for path in paths:\n",
    "    images = ase.io.read(path, \":\")\n",
    "    randomid = os.path.basename(path)\n",
    "    ase.io.write(randomid, images)"
   ]
  },
  {
   "cell_type": "code",
   "execution_count": null,
   "metadata": {},
   "outputs": [],
   "source": [
    "images[0].constraints[0].index"
   ]
  },
  {
   "cell_type": "code",
   "execution_count": null,
   "metadata": {},
   "outputs": [],
   "source": [
    "surface_elements_to_remove = [1, 3, 11, 19, 37, 55, 87, 2, 10, 18, 36, 54, 86, 7, 8, 9, 15, 16, 17, 34, 35, 53]"
   ]
  },
  {
   "cell_type": "code",
   "execution_count": null,
   "metadata": {},
   "outputs": [],
   "source": [
    "ase.io.write(\"test.traj\", images)"
   ]
  },
  {
   "cell_type": "code",
   "execution_count": null,
   "metadata": {},
   "outputs": [],
   "source": [
    "k = torch.tensor([0, 0, 4, 5, 6, 7 ,8])"
   ]
  },
  {
   "cell_type": "code",
   "execution_count": null,
   "metadata": {},
   "outputs": [],
   "source": [
    "k.nonzero().flatten()"
   ]
  },
  {
   "cell_type": "code",
   "execution_count": null,
   "metadata": {},
   "outputs": [],
   "source": [
    "k[k != 0].flatten()"
   ]
  },
  {
   "cell_type": "code",
   "execution_count": null,
   "metadata": {},
   "outputs": [],
   "source": [
    "en_stdev = []\n",
    "f_stdev = []\n",
    "size = [200000, 300000, 400000, 600000, 800000]\n",
    "for i in size:\n",
    "    k = open(f\"eval_en_{i}.pkl\", \"rb\")\n",
    "    j = open(f\"eval_fo_{i}.pkl\", \"rb\")\n",
    "    \n",
    "    en = pickle.load(k)\n",
    "    e_mae = en[str(i)]\n",
    "    en_stdev.append(np.std(e_mae))\n",
    "    \n",
    "    f = pickle.load(j)\n",
    "    f_mae = f[str(i)]\n",
    "    f_stdev.append(np.std(f_mae))"
   ]
  },
  {
   "cell_type": "code",
   "execution_count": null,
   "metadata": {
    "scrolled": true
   },
   "outputs": [],
   "source": [
    "plt.plot(size, en_stdev)\n",
    "plt.title(\"Energy\")\n",
    "plt.xlabel(\"Validation size\")\n",
    "plt.ylabel(\"Stdev\")"
   ]
  },
  {
   "cell_type": "code",
   "execution_count": null,
   "metadata": {},
   "outputs": [],
   "source": [
    "plt.plot(size, f_stdev)\n",
    "plt.title(\"Force avg\")\n",
    "plt.xlabel(\"Validation size\")\n",
    "plt.ylabel(\"Stdev\")"
   ]
  },
  {
   "cell_type": "code",
   "execution_count": null,
   "metadata": {},
   "outputs": [],
   "source": []
  }
 ],
 "metadata": {
  "kernelspec": {
   "display_name": "Python 3",
   "language": "python",
   "name": "python3"
  },
  "language_info": {
   "codemirror_mode": {
    "name": "ipython",
    "version": 3
   },
   "file_extension": ".py",
   "mimetype": "text/x-python",
   "name": "python",
   "nbconvert_exporter": "python",
   "pygments_lexer": "ipython3",
   "version": "3.6.10"
  }
 },
 "nbformat": 4,
 "nbformat_minor": 4
}
